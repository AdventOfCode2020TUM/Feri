{
 "cells": [
  {
   "cell_type": "markdown",
   "metadata": {},
   "source": [
    "# Task 1"
   ]
  },
  {
   "cell_type": "code",
   "execution_count": 1,
   "metadata": {},
   "outputs": [],
   "source": [
    "import numpy as np"
   ]
  },
  {
   "cell_type": "code",
   "execution_count": 2,
   "metadata": {},
   "outputs": [],
   "source": [
    "def read_data(file):\n",
    "    \"\"\"Reads in data to a numpy array.\"\"\"\n",
    "    data = []\n",
    "    with open(file) as f:\n",
    "        for line in f:\n",
    "            data.append([char for char in line[: -1]])\n",
    "    \n",
    "    return np.array(data)"
   ]
  },
  {
   "cell_type": "code",
   "execution_count": 19,
   "metadata": {},
   "outputs": [],
   "source": [
    "def update_map(data):\n",
    "    \"\"\"swipes through the whole map once according to the rules.\"\"\"\n",
    "    data_new = data.copy()\n",
    "    for i1, row in enumerate(data):\n",
    "        for i2, point in enumerate(row):\n",
    "            # get the surrounging data:\n",
    "            i1_min = i1 - 1 if (i1 - 1) >= 0 else 0\n",
    "            i1_max = i1 + 2 if (i1 + 2) <= data.shape[0] else data.shape[0]\n",
    "            i2_min = i2 - 1 if (i2 - 1) >= 0 else 0\n",
    "            i2_max = i2 + 2 if (i2 + 2) <= data.shape[1] else data.shape[1]\n",
    "            surrounding = data[i1_min: i1_max, i2_min: i2_max]\n",
    "            \n",
    "            # change the seat according to the rules:\n",
    "            if point == 'L':\n",
    "                if (surrounding == '#').any():\n",
    "                    data_new[i1, i2] = 'L'\n",
    "                else:\n",
    "                    data_new[i1, i2] = '#'\n",
    "            elif point == '#':\n",
    "                if np.count_nonzero(surrounding == '#') >= 5:\n",
    "                    data_new[i1, i2] = 'L'\n",
    "                else:\n",
    "                    data_new[i1, i2] = '#'\n",
    "    \n",
    "    return data_new, (data_new != data).any()"
   ]
  },
  {
   "cell_type": "code",
   "execution_count": 20,
   "metadata": {},
   "outputs": [],
   "source": [
    "def update_until_convergence(data):\n",
    "    \"\"\"Updates the map until convergence then returns the new map.\"\"\"\n",
    "    \n",
    "    data, map_has_changed = update_map(data)\n",
    "    while map_has_changed:\n",
    "        data, map_has_changed = update_map(data)\n",
    "        \n",
    "    return data"
   ]
  },
  {
   "cell_type": "code",
   "execution_count": 21,
   "metadata": {},
   "outputs": [
    {
     "name": "stdout",
     "output_type": "stream",
     "text": [
      "[['#' '.' '#' 'L' '.' 'L' '#' '.' '#' '#']\n",
      " ['#' 'L' 'L' 'L' '#' 'L' 'L' '.' 'L' '#']\n",
      " ['L' '.' '#' '.' 'L' '.' '.' '#' '.' '.']\n",
      " ['#' 'L' '#' '#' '.' '#' '#' '.' 'L' '#']\n",
      " ['#' '.' '#' 'L' '.' 'L' 'L' '.' 'L' 'L']\n",
      " ['#' '.' '#' 'L' '#' 'L' '#' '.' '#' '#']\n",
      " ['.' '.' 'L' '.' 'L' '.' '.' '.' '.' '.']\n",
      " ['#' 'L' '#' 'L' '#' '#' 'L' '#' 'L' '#']\n",
      " ['#' '.' 'L' 'L' 'L' 'L' 'L' 'L' '.' 'L']\n",
      " ['#' '.' '#' 'L' '#' 'L' '#' '.' '#' '#']]\n",
      "\n",
      "Num of occupied seats: 37\n"
     ]
    }
   ],
   "source": [
    "# testing:\n",
    "file = \"data/test_data.txt\"\n",
    "data = read_data(file)\n",
    "data = update_until_convergence(data)\n",
    "print(data)\n",
    "print(\"\\nNum of occupied seats: {}\".format(np.count_nonzero(data == '#')))"
   ]
  },
  {
   "cell_type": "code",
   "execution_count": 22,
   "metadata": {},
   "outputs": [
    {
     "name": "stdout",
     "output_type": "stream",
     "text": [
      "\n",
      "Num of occupied seats: 2427\n"
     ]
    }
   ],
   "source": [
    "# real data:\n",
    "file = \"data/data.txt\"\n",
    "data = read_data(file)\n",
    "data = update_until_convergence(data)\n",
    "print(\"\\nNum of occupied seats: {}\".format(np.count_nonzero(data == '#')))"
   ]
  },
  {
   "cell_type": "markdown",
   "metadata": {},
   "source": [
    "# Task 2"
   ]
  },
  {
   "cell_type": "code",
   "execution_count": 30,
   "metadata": {},
   "outputs": [],
   "source": [
    "def update_map_2(data):\n",
    "    \"\"\"swipes through the whole map once according to the new rules.\"\"\"\n",
    "    directions = [(-1, 0), (-1, 1), (0, 1), (1, 1), (1, 0), (1, -1), (0, -1), (-1, -1)]\n",
    "    data_new = data.copy()\n",
    "    for i1, row in enumerate(data):\n",
    "        for i2, point in enumerate(row):\n",
    "            # get the surrounging data:\n",
    "            surrounding = []\n",
    "            for direction in directions:\n",
    "                surrounding.append(get_seat_in_direction(data, i1, i2, direction))\n",
    "            surrounding = np.array(surrounding)\n",
    "            \n",
    "            # change the seat according to the rules:\n",
    "            if point == 'L':\n",
    "                if (surrounding == '#').any():\n",
    "                    data_new[i1, i2] = 'L'\n",
    "                else:\n",
    "                    data_new[i1, i2] = '#'\n",
    "            elif point == '#':\n",
    "                if np.count_nonzero(surrounding == '#') >= 5:\n",
    "                    data_new[i1, i2] = 'L'\n",
    "                else:\n",
    "                    data_new[i1, i2] = '#'\n",
    "    \n",
    "    return data_new, (data_new != data).any()\n",
    "\n",
    "\n",
    "def get_seat_in_direction(data, i1, i2, direction):\n",
    "    \"\"\"returns the first seat in the direction from (i1, i2).\n",
    "    If there is no seat in that direction, '.' is returned.\n",
    "    \"\"\"\n",
    "    i1 += direction[0]\n",
    "    i2 += direction[1]\n",
    "    seat = '.'\n",
    "    \n",
    "    while ((seat == '.') and \\\n",
    "           (i1 >= 0) and (i1 < data.shape[0]) and \\\n",
    "           (i2 >= 0) and (i2 < data.shape[1])):\n",
    "        seat = data[i1, i2]\n",
    "        i1 += direction[0]\n",
    "        i2 += direction[1]\n",
    "        \n",
    "    return seat"
   ]
  },
  {
   "cell_type": "code",
   "execution_count": 31,
   "metadata": {},
   "outputs": [],
   "source": [
    "def update_until_convergence_2(data):\n",
    "    \"\"\"Updates the map until convergence then returns the new map.\"\"\"\n",
    "    \n",
    "    data, map_has_changed = update_map_2(data)\n",
    "    while map_has_changed:\n",
    "        data, map_has_changed = update_map_2(data)\n",
    "        \n",
    "    return data"
   ]
  },
  {
   "cell_type": "code",
   "execution_count": 32,
   "metadata": {},
   "outputs": [
    {
     "name": "stdout",
     "output_type": "stream",
     "text": [
      "[['#' '.' 'L' '#' '.' 'L' '#' '.' 'L' '#']\n",
      " ['#' 'L' 'L' 'L' 'L' 'L' 'L' '.' 'L' 'L']\n",
      " ['L' '.' 'L' '.' 'L' '.' '.' '#' '.' '.']\n",
      " ['#' '#' 'L' '#' '.' '#' 'L' '.' 'L' '#']\n",
      " ['L' '.' 'L' '#' '.' 'L' 'L' '.' 'L' '#']\n",
      " ['#' '.' 'L' 'L' 'L' 'L' '#' '.' 'L' 'L']\n",
      " ['.' '.' '#' '.' 'L' '.' '.' '.' '.' '.']\n",
      " ['L' 'L' 'L' '#' '#' '#' 'L' 'L' 'L' '#']\n",
      " ['#' '.' 'L' 'L' 'L' 'L' 'L' '#' '.' 'L']\n",
      " ['#' '.' 'L' '#' 'L' 'L' '#' '.' 'L' '#']]\n",
      "\n",
      "Num of occupied seats: 26\n"
     ]
    }
   ],
   "source": [
    "# testing:\n",
    "file = \"data/test_data.txt\"\n",
    "data = read_data(file)\n",
    "data = update_until_convergence_2(data)\n",
    "print(data)\n",
    "print(\"\\nNum of occupied seats: {}\".format(np.count_nonzero(data == '#')))"
   ]
  },
  {
   "cell_type": "code",
   "execution_count": 34,
   "metadata": {},
   "outputs": [
    {
     "name": "stdout",
     "output_type": "stream",
     "text": [
      "\n",
      "Num of occupied seats: 2199\n"
     ]
    }
   ],
   "source": [
    "# real data:\n",
    "file = \"data/data.txt\"\n",
    "data = read_data(file)\n",
    "data = update_until_convergence_2(data)\n",
    "print(\"\\nNum of occupied seats: {}\".format(np.count_nonzero(data == '#')))"
   ]
  },
  {
   "cell_type": "code",
   "execution_count": null,
   "metadata": {},
   "outputs": [],
   "source": []
  }
 ],
 "metadata": {
  "kernelspec": {
   "display_name": "Python 3",
   "language": "python",
   "name": "python3"
  },
  "language_info": {
   "codemirror_mode": {
    "name": "ipython",
    "version": 3
   },
   "file_extension": ".py",
   "mimetype": "text/x-python",
   "name": "python",
   "nbconvert_exporter": "python",
   "pygments_lexer": "ipython3",
   "version": "3.8.6"
  }
 },
 "nbformat": 4,
 "nbformat_minor": 4
}
