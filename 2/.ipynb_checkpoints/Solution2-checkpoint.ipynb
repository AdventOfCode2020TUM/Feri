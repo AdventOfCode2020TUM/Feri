{
 "cells": [
  {
   "cell_type": "markdown",
   "metadata": {},
   "source": [
    "# Part 1"
   ]
  },
  {
   "cell_type": "code",
   "execution_count": 33,
   "metadata": {},
   "outputs": [],
   "source": [
    "import pandas as pd"
   ]
  },
  {
   "cell_type": "code",
   "execution_count": 34,
   "metadata": {
    "scrolled": true
   },
   "outputs": [
    {
     "data": {
      "text/html": [
       "<div>\n",
       "<style scoped>\n",
       "    .dataframe tbody tr th:only-of-type {\n",
       "        vertical-align: middle;\n",
       "    }\n",
       "\n",
       "    .dataframe tbody tr th {\n",
       "        vertical-align: top;\n",
       "    }\n",
       "\n",
       "    .dataframe thead th {\n",
       "        text-align: right;\n",
       "    }\n",
       "</style>\n",
       "<table border=\"1\" class=\"dataframe\">\n",
       "  <thead>\n",
       "    <tr style=\"text-align: right;\">\n",
       "      <th></th>\n",
       "      <th>min</th>\n",
       "      <th>max</th>\n",
       "      <th>letter</th>\n",
       "      <th>password</th>\n",
       "    </tr>\n",
       "  </thead>\n",
       "  <tbody>\n",
       "    <tr>\n",
       "      <th>0</th>\n",
       "      <td>9</td>\n",
       "      <td>10</td>\n",
       "      <td>b</td>\n",
       "      <td>bbktbbbxhfbpb</td>\n",
       "    </tr>\n",
       "    <tr>\n",
       "      <th>1</th>\n",
       "      <td>2</td>\n",
       "      <td>10</td>\n",
       "      <td>x</td>\n",
       "      <td>xxnxxxwxxsx</td>\n",
       "    </tr>\n",
       "    <tr>\n",
       "      <th>2</th>\n",
       "      <td>5</td>\n",
       "      <td>7</td>\n",
       "      <td>w</td>\n",
       "      <td>ghwwdrr</td>\n",
       "    </tr>\n",
       "    <tr>\n",
       "      <th>3</th>\n",
       "      <td>4</td>\n",
       "      <td>6</td>\n",
       "      <td>z</td>\n",
       "      <td>nzzjzk</td>\n",
       "    </tr>\n",
       "    <tr>\n",
       "      <th>4</th>\n",
       "      <td>7</td>\n",
       "      <td>8</td>\n",
       "      <td>s</td>\n",
       "      <td>szsssswfs</td>\n",
       "    </tr>\n",
       "  </tbody>\n",
       "</table>\n",
       "</div>"
      ],
      "text/plain": [
       "   min  max letter       password\n",
       "0    9   10      b  bbktbbbxhfbpb\n",
       "1    2   10      x    xxnxxxwxxsx\n",
       "2    5    7      w        ghwwdrr\n",
       "3    4    6      z         nzzjzk\n",
       "4    7    8      s      szsssswfs"
      ]
     },
     "execution_count": 34,
     "metadata": {},
     "output_type": "execute_result"
    }
   ],
   "source": [
    "df = pd.read_csv('data/data.txt', names=['min', 'max', 'letter', 'password'],\n",
    "                     sep=': |-| |:', engine='python')\n",
    "df.head()"
   ]
  },
  {
   "cell_type": "code",
   "execution_count": 35,
   "metadata": {},
   "outputs": [],
   "source": [
    "def check_password(row):\n",
    "    \"\"\"Checks whether the letter occures the correct number of times in the password.\"\"\"\n",
    "    \n",
    "    n = row[\"password\"].count(row[\"letter\"])\n",
    "    return (n >= row[\"min\"]) & (n <= row[\"max\"])"
   ]
  },
  {
   "cell_type": "code",
   "execution_count": 36,
   "metadata": {},
   "outputs": [],
   "source": [
    "# testing:\n",
    "test_df = pd.read_csv('data/test_data.txt', names=['min', 'max', 'letter', 'password'],\n",
    "                     sep=': |-| |:', engine='python')\n",
    "\n",
    "ground_truth = [True, True, True, False, False]\n",
    "\n",
    "for i, row in test_df.iterrows():\n",
    "    assert check_password(row) == ground_truth[i], \"error in testcase {}\".format(i)"
   ]
  },
  {
   "cell_type": "code",
   "execution_count": 37,
   "metadata": {},
   "outputs": [
    {
     "name": "stdout",
     "output_type": "stream",
     "text": [
      "Number of correct passwords: 643\n"
     ]
    }
   ],
   "source": [
    "# counting the correct passwords:\n",
    "counter = 0\n",
    "for _, row in df.iterrows():\n",
    "    counter += check_password(row)\n",
    "\n",
    "print(\"Number of correct passwords: {}\".format(counter))"
   ]
  },
  {
   "cell_type": "markdown",
   "metadata": {},
   "source": [
    "# Part 2"
   ]
  },
  {
   "cell_type": "code",
   "execution_count": 38,
   "metadata": {},
   "outputs": [
    {
     "data": {
      "text/html": [
       "<div>\n",
       "<style scoped>\n",
       "    .dataframe tbody tr th:only-of-type {\n",
       "        vertical-align: middle;\n",
       "    }\n",
       "\n",
       "    .dataframe tbody tr th {\n",
       "        vertical-align: top;\n",
       "    }\n",
       "\n",
       "    .dataframe thead th {\n",
       "        text-align: right;\n",
       "    }\n",
       "</style>\n",
       "<table border=\"1\" class=\"dataframe\">\n",
       "  <thead>\n",
       "    <tr style=\"text-align: right;\">\n",
       "      <th></th>\n",
       "      <th>pos1</th>\n",
       "      <th>pos2</th>\n",
       "      <th>letter</th>\n",
       "      <th>password</th>\n",
       "    </tr>\n",
       "  </thead>\n",
       "  <tbody>\n",
       "    <tr>\n",
       "      <th>0</th>\n",
       "      <td>9</td>\n",
       "      <td>10</td>\n",
       "      <td>b</td>\n",
       "      <td>bbktbbbxhfbpb</td>\n",
       "    </tr>\n",
       "    <tr>\n",
       "      <th>1</th>\n",
       "      <td>2</td>\n",
       "      <td>10</td>\n",
       "      <td>x</td>\n",
       "      <td>xxnxxxwxxsx</td>\n",
       "    </tr>\n",
       "    <tr>\n",
       "      <th>2</th>\n",
       "      <td>5</td>\n",
       "      <td>7</td>\n",
       "      <td>w</td>\n",
       "      <td>ghwwdrr</td>\n",
       "    </tr>\n",
       "    <tr>\n",
       "      <th>3</th>\n",
       "      <td>4</td>\n",
       "      <td>6</td>\n",
       "      <td>z</td>\n",
       "      <td>nzzjzk</td>\n",
       "    </tr>\n",
       "    <tr>\n",
       "      <th>4</th>\n",
       "      <td>7</td>\n",
       "      <td>8</td>\n",
       "      <td>s</td>\n",
       "      <td>szsssswfs</td>\n",
       "    </tr>\n",
       "  </tbody>\n",
       "</table>\n",
       "</div>"
      ],
      "text/plain": [
       "   pos1  pos2 letter       password\n",
       "0     9    10      b  bbktbbbxhfbpb\n",
       "1     2    10      x    xxnxxxwxxsx\n",
       "2     5     7      w        ghwwdrr\n",
       "3     4     6      z         nzzjzk\n",
       "4     7     8      s      szsssswfs"
      ]
     },
     "execution_count": 38,
     "metadata": {},
     "output_type": "execute_result"
    }
   ],
   "source": [
    "# rename the dataframe columns:\n",
    "df = df.rename(columns={\"min\": \"pos1\", \"max\": \"pos2\"})\n",
    "test_df = test_df.rename(columns={\"min\": \"pos1\", \"max\": \"pos2\"})\n",
    "df.head()"
   ]
  },
  {
   "cell_type": "code",
   "execution_count": 39,
   "metadata": {},
   "outputs": [],
   "source": [
    "def check_password2(row):\n",
    "    \"\"\"Checks whether one and only one of the positions in the password match the letter.\"\"\"\n",
    "    \n",
    "    pos1_contains = row[\"password\"][row[\"pos1\"] - 1] == row[\"letter\"]\n",
    "    pos2_contains = row[\"password\"][row[\"pos2\"] - 1] == row[\"letter\"]\n",
    "    return pos1_contains != pos2_contains"
   ]
  },
  {
   "cell_type": "code",
   "execution_count": 41,
   "metadata": {},
   "outputs": [],
   "source": [
    "# testing:\n",
    "ground_truth = [True, True, False, False, False]\n",
    "\n",
    "for i, row in test_df.iterrows():\n",
    "    assert check_password2(row) == ground_truth[i], \"error in testcase {}\".format(i)"
   ]
  },
  {
   "cell_type": "code",
   "execution_count": 42,
   "metadata": {},
   "outputs": [
    {
     "name": "stdout",
     "output_type": "stream",
     "text": [
      "Number of correct passwords: 388\n"
     ]
    }
   ],
   "source": [
    "# counting the correct passwords according to the new rules:\n",
    "counter = 0\n",
    "for _, row in df.iterrows():\n",
    "    counter += check_password2(row)\n",
    "\n",
    "print(\"Number of correct passwords: {}\".format(counter))"
   ]
  },
  {
   "cell_type": "code",
   "execution_count": null,
   "metadata": {},
   "outputs": [],
   "source": []
  }
 ],
 "metadata": {
  "kernelspec": {
   "display_name": "Python 3",
   "language": "python",
   "name": "python3"
  },
  "language_info": {
   "codemirror_mode": {
    "name": "ipython",
    "version": 3
   },
   "file_extension": ".py",
   "mimetype": "text/x-python",
   "name": "python",
   "nbconvert_exporter": "python",
   "pygments_lexer": "ipython3",
   "version": "3.8.6"
  }
 },
 "nbformat": 4,
 "nbformat_minor": 4
}
