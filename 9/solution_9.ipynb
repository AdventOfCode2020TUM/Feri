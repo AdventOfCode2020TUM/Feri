{
 "cells": [
  {
   "cell_type": "markdown",
   "metadata": {},
   "source": [
    "# Task 1"
   ]
  },
  {
   "cell_type": "code",
   "execution_count": 1,
   "metadata": {},
   "outputs": [],
   "source": [
    "import numpy as np"
   ]
  },
  {
   "cell_type": "code",
   "execution_count": 13,
   "metadata": {},
   "outputs": [],
   "source": [
    "def read_data(file):\n",
    "    \"\"\"Reads in the data from the file\"\"\"\n",
    "    with open(file) as f:\n",
    "        return np.array([int(line[0: -1]) for line in f])"
   ]
  },
  {
   "cell_type": "code",
   "execution_count": 16,
   "metadata": {},
   "outputs": [],
   "source": [
    "def get_outlier(data, length):\n",
    "    \"\"\"Returns the outlier and the index of it.\n",
    "    Input:\n",
    "        data: np.array()\n",
    "        length: scalar\n",
    "    Output:\n",
    "        num: outlier data\n",
    "        index: index of the outlier data.\n",
    "    \"\"\"\n",
    "    for i, num in enumerate(data[length: ]):\n",
    "        if num not in np.add.outer(data[i: i+length], data[i: i+length]):\n",
    "            return num, i + length"
   ]
  },
  {
   "cell_type": "code",
   "execution_count": 17,
   "metadata": {},
   "outputs": [
    {
     "name": "stdout",
     "output_type": "stream",
     "text": [
      "outlier data 127\n",
      "the index of the outlier data: 14\n"
     ]
    }
   ],
   "source": [
    "# testing:\n",
    "file = \"data/test_data.txt\"\n",
    "data = read_data(file)\n",
    "num, index = get_outlier(data, 5)\n",
    "print(\"outlier data {}\".format(num))\n",
    "print(\"the index of the outlier data: {}\".format(index))"
   ]
  },
  {
   "cell_type": "code",
   "execution_count": 18,
   "metadata": {},
   "outputs": [
    {
     "name": "stdout",
     "output_type": "stream",
     "text": [
      "outlier data 29221323\n",
      "the index of the outlier data: 507\n"
     ]
    }
   ],
   "source": [
    "# real data:\n",
    "file = \"data/data.txt\"\n",
    "data = read_data(file)\n",
    "num, index = get_outlier(data, 25)\n",
    "print(\"outlier data {}\".format(num))\n",
    "print(\"the index of the outlier data: {}\".format(index))"
   ]
  },
  {
   "cell_type": "markdown",
   "metadata": {},
   "source": [
    "# Task 2"
   ]
  },
  {
   "cell_type": "code",
   "execution_count": 25,
   "metadata": {},
   "outputs": [],
   "source": [
    "def get_sequence(data, outlier, outlier_index):\n",
    "    \"\"\"Gets the sequence which sums up to the uptlier\"\"\"\n",
    "    \n",
    "    for i, num in enumerate(data):\n",
    "        if i != outlier_index:\n",
    "            i2 = i\n",
    "            summ = num\n",
    "            while summ < outlier:\n",
    "                i2 += 1\n",
    "                summ += data[i2]\n",
    "            \n",
    "            if (summ == outlier):\n",
    "                return data[i: i2 + 1]\n",
    "    \n",
    "    return None"
   ]
  },
  {
   "cell_type": "code",
   "execution_count": 26,
   "metadata": {},
   "outputs": [
    {
     "name": "stdout",
     "output_type": "stream",
     "text": [
      "the sequence: [15 25 47 40]\n",
      "The sum of the sequence: 127\n",
      "weakness: 62\n"
     ]
    }
   ],
   "source": [
    "# testing:\n",
    "file = \"data/test_data.txt\"\n",
    "data = read_data(file)\n",
    "outlier, outlier_index = get_outlier(data, 5)\n",
    "sequence = get_sequence(data, outlier, outlier_index)\n",
    "print(\"the sequence: {}\".format(sequence))\n",
    "print(\"The sum of the sequence: {}\".format(sequence.sum()))\n",
    "print(\"weakness: {}\".format(sequence.min() + sequence.max()))"
   ]
  },
  {
   "cell_type": "code",
   "execution_count": 28,
   "metadata": {},
   "outputs": [
    {
     "name": "stdout",
     "output_type": "stream",
     "text": [
      "the sequence: [1149640 1330437 1911355 1239806 1328374 1912577 1476345 3239729 1654048\n",
      " 1655666 1594821 1584068 1608129 1758938 1700648 1711401 2365341]\n",
      "The sum of the sequence: 29221323\n",
      "weakness: 4389369\n"
     ]
    }
   ],
   "source": [
    "# testing:\n",
    "file = \"data/data.txt\"\n",
    "data = read_data(file)\n",
    "outlier, outlier_index = get_outlier(data, 25)\n",
    "sequence = get_sequence(data, outlier, outlier_index)\n",
    "print(\"the sequence: {}\".format(sequence))\n",
    "print(\"The sum of the sequence: {}\".format(sequence.sum()))\n",
    "print(\"weakness: {}\".format(sequence.min() + sequence.max()))"
   ]
  },
  {
   "cell_type": "code",
   "execution_count": null,
   "metadata": {},
   "outputs": [],
   "source": []
  }
 ],
 "metadata": {
  "kernelspec": {
   "display_name": "Python 3",
   "language": "python",
   "name": "python3"
  },
  "language_info": {
   "codemirror_mode": {
    "name": "ipython",
    "version": 3
   },
   "file_extension": ".py",
   "mimetype": "text/x-python",
   "name": "python",
   "nbconvert_exporter": "python",
   "pygments_lexer": "ipython3",
   "version": "3.8.6"
  }
 },
 "nbformat": 4,
 "nbformat_minor": 4
}
