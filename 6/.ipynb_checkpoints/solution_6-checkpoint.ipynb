{
 "cells": [
  {
   "cell_type": "markdown",
   "metadata": {},
   "source": [
    "# Task 1"
   ]
  },
  {
   "cell_type": "code",
   "execution_count": 7,
   "metadata": {},
   "outputs": [],
   "source": [
    "def count_different_goods(file):\n",
    "    \"\"\"Counts the different kind of goods in every group of people.\"\"\"\n",
    "    \n",
    "    num_of_goods = []\n",
    "    group = \"\"\n",
    "    with open(file) as f:\n",
    "        for line in f:\n",
    "            if line != \"\\n\":\n",
    "                group += line[: -1]\n",
    "            else:\n",
    "                num_of_goods.append(len(set(group)))\n",
    "                group = \"\"\n",
    "                \n",
    "        num_of_goods.append(len(set(group)))\n",
    "        \n",
    "    return num_of_goods"
   ]
  },
  {
   "cell_type": "code",
   "execution_count": 8,
   "metadata": {},
   "outputs": [
    {
     "name": "stdout",
     "output_type": "stream",
     "text": [
      "[3, 3, 3, 1, 1]\n"
     ]
    }
   ],
   "source": [
    "# testing it on the test data:\n",
    "file = \"data/test_data.txt\"\n",
    "num_of_goods = count_different_goods(file)\n",
    "print(num_of_goods)"
   ]
  },
  {
   "cell_type": "code",
   "execution_count": 10,
   "metadata": {},
   "outputs": [
    {
     "name": "stdout",
     "output_type": "stream",
     "text": [
      "The sum of different goods in the groups: 6809\n"
     ]
    }
   ],
   "source": [
    "# real data:\n",
    "file = \"data/data.txt\"\n",
    "num_of_goods = count_different_goods(file)\n",
    "\n",
    "# summing them up:\n",
    "print(\"The sum of different goods in the groups: {}\".format(sum(num_of_goods)))"
   ]
  },
  {
   "cell_type": "markdown",
   "metadata": {},
   "source": [
    "# Task 2"
   ]
  },
  {
   "cell_type": "code",
   "execution_count": 11,
   "metadata": {},
   "outputs": [],
   "source": [
    "from collections import Counter"
   ]
  },
  {
   "cell_type": "code",
   "execution_count": 18,
   "metadata": {},
   "outputs": [],
   "source": [
    "def count_common_goods(file):\n",
    "    \"\"\"Counts in each group the number of goods that everyone has reported.\"\"\"\n",
    "    \n",
    "    num_of_goods = []\n",
    "    group = \"\"\n",
    "    member_counter = 0\n",
    "    \n",
    "    with open(file) as f:\n",
    "        for line in f:\n",
    "            if line != \"\\n\":\n",
    "                group += line[: -1]\n",
    "                member_counter += 1\n",
    "            else:\n",
    "                values = list(Counter(group).values())\n",
    "                num_of_goods.append(values.count(member_counter))\n",
    "                group = \"\"\n",
    "                member_counter = 0\n",
    "                \n",
    "        values = list(Counter(group).values())\n",
    "        num_of_goods.append(values.count(member_counter))\n",
    "        \n",
    "    return num_of_goods"
   ]
  },
  {
   "cell_type": "code",
   "execution_count": 19,
   "metadata": {},
   "outputs": [
    {
     "name": "stdout",
     "output_type": "stream",
     "text": [
      "[3, 0, 1, 1, 1]\n"
     ]
    }
   ],
   "source": [
    "# testing it on the test data:\n",
    "file = \"data/test_data.txt\"\n",
    "num_of_goods = count_common_goods(file)\n",
    "print(num_of_goods)"
   ]
  },
  {
   "cell_type": "code",
   "execution_count": 20,
   "metadata": {},
   "outputs": [
    {
     "name": "stdout",
     "output_type": "stream",
     "text": [
      "The sum of common goods in the groups: 3394\n"
     ]
    }
   ],
   "source": [
    "# real data:\n",
    "file = \"data/data.txt\"\n",
    "num_of_goods = count_common_goods(file)\n",
    "\n",
    "# summing them up:\n",
    "print(\"The sum of common goods in the groups: {}\".format(sum(num_of_goods)))"
   ]
  },
  {
   "cell_type": "code",
   "execution_count": null,
   "metadata": {},
   "outputs": [],
   "source": []
  }
 ],
 "metadata": {
  "kernelspec": {
   "display_name": "Python 3",
   "language": "python",
   "name": "python3"
  },
  "language_info": {
   "codemirror_mode": {
    "name": "ipython",
    "version": 3
   },
   "file_extension": ".py",
   "mimetype": "text/x-python",
   "name": "python",
   "nbconvert_exporter": "python",
   "pygments_lexer": "ipython3",
   "version": "3.8.6"
  }
 },
 "nbformat": 4,
 "nbformat_minor": 4
}
