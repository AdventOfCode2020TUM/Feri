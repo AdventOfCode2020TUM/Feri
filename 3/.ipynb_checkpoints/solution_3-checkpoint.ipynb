{
 "cells": [
  {
   "cell_type": "markdown",
   "metadata": {},
   "source": [
    "# Part 1"
   ]
  },
  {
   "cell_type": "code",
   "execution_count": 3,
   "metadata": {
    "scrolled": true
   },
   "outputs": [
    {
     "name": "stdout",
     "output_type": "stream",
     "text": [
      ".........#..##..#..#........#..\n",
      "#...#..#..#...##.....##.##.#...\n",
      "....#..............#....#....#.\n",
      "#.#..#.....#...#.##..#.#.#.....\n",
      "........#..#.#..#.......#......\n"
     ]
    }
   ],
   "source": [
    "# reading in the map as a list of strings:\n",
    "with open(\"data/data.txt\") as f:\n",
    "    lines = f.readlines()\n",
    "    \n",
    "# removing end of line characters:\n",
    "lines = [line.strip() for line in lines]\n",
    "\n",
    "for i in range(5):\n",
    "    print(lines[i])"
   ]
  },
  {
   "cell_type": "code",
   "execution_count": 26,
   "metadata": {},
   "outputs": [],
   "source": [
    "def count_colisions(lines, policy):\n",
    "    \"\"\"counts the collisions occuring when traversing according to the policy.\n",
    "    Inputs:\n",
    "        lines: list of strings. Each string is a line in the forest containing . or #\n",
    "        policy: dict: {\"right\": steps_right, \"down\": steps_down}\n",
    "    Outputs:\n",
    "        num_of_colisions: int, number of colisions occured during traversing with the policy\n",
    "    \"\"\"\n",
    "    \n",
    "    steps_right = policy[\"right\"]\n",
    "    steps_down = policy[\"down\"]\n",
    "    \n",
    "    line_length = len(lines[0])\n",
    "    index = 0\n",
    "    num_of_colisions = 0\n",
    "    \n",
    "    for i in range(0, len(lines), steps_down):\n",
    "        num_of_colisions += (lines[i][index] == \"#\")\n",
    "        \n",
    "        index += steps_right\n",
    "        if index >= line_length:\n",
    "            index -= line_length\n",
    "    \n",
    "    return num_of_colisions    "
   ]
  },
  {
   "cell_type": "code",
   "execution_count": 27,
   "metadata": {},
   "outputs": [
    {
     "name": "stdout",
     "output_type": "stream",
     "text": [
      "number of collisions: 156\n"
     ]
    }
   ],
   "source": [
    "# counting the collisions according to the policy:\n",
    "policy = {\"right\": 3, \"down\": 1}\n",
    "\n",
    "num_of_colisions = count_colisions(lines, policy)\n",
    "\n",
    "print(\"number of collisions: {}\".format(num_of_colisions))"
   ]
  },
  {
   "cell_type": "markdown",
   "metadata": {},
   "source": [
    "# Part 2"
   ]
  },
  {
   "cell_type": "code",
   "execution_count": 28,
   "metadata": {},
   "outputs": [],
   "source": [
    "# the list of policies:\n",
    "policies = [{\"right\": 1, \"down\": 1},\n",
    "           {\"right\": 3, \"down\": 1},\n",
    "           {\"right\": 5, \"down\": 1},\n",
    "           {\"right\": 7, \"down\": 1},\n",
    "           {\"right\": 1, \"down\": 2}]"
   ]
  },
  {
   "cell_type": "code",
   "execution_count": 30,
   "metadata": {},
   "outputs": [
    {
     "name": "stdout",
     "output_type": "stream",
     "text": [
      "[2, 7, 3, 4, 2]\n"
     ]
    }
   ],
   "source": [
    "# testing:\n",
    "# reading in the map as a list of strings:\n",
    "with open(\"data/test_data.txt\") as f:\n",
    "    test_lines = f.readlines()\n",
    "    \n",
    "# removing end of line characters:\n",
    "test_lines = [line.strip() for line in test_lines]\n",
    "\n",
    "# multiplying the number of collisions together:\n",
    "collisions = []\n",
    "for policy in policies:\n",
    "    collisions.append(count_colisions(test_lines, policy))\n",
    "    \n",
    "print(collisions)"
   ]
  },
  {
   "cell_type": "code",
   "execution_count": null,
   "metadata": {},
   "outputs": [],
   "source": [
    "# multiplying the number of collisions together:\n",
    "collisions = []\n",
    "for policy in policies:\n",
    "    collisions.append(count_colisions(lines, policy))\n",
    "    \n",
    "print(\"num of collisions {}\".format(collisions))\n",
    "# print(\"the num of collisions multiplied together: {}\".format(mult))"
   ]
  }
 ],
 "metadata": {
  "kernelspec": {
   "display_name": "Python 3",
   "language": "python",
   "name": "python3"
  },
  "language_info": {
   "codemirror_mode": {
    "name": "ipython",
    "version": 3
   },
   "file_extension": ".py",
   "mimetype": "text/x-python",
   "name": "python",
   "nbconvert_exporter": "python",
   "pygments_lexer": "ipython3",
   "version": "3.8.6"
  }
 },
 "nbformat": 4,
 "nbformat_minor": 4
}
