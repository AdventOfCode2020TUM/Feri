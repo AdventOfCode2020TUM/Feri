{
 "cells": [
  {
   "cell_type": "markdown",
   "metadata": {},
   "source": [
    "# Task 1"
   ]
  },
  {
   "cell_type": "code",
   "execution_count": 8,
   "metadata": {},
   "outputs": [],
   "source": [
    "import numpy as np"
   ]
  },
  {
   "cell_type": "code",
   "execution_count": 68,
   "metadata": {},
   "outputs": [],
   "source": [
    "def read_file_to_dict(file):\n",
    "    \"\"\"Reads the data into a dict: {container color: list of bag colors}\"\"\"\n",
    "    \n",
    "    rules = {}\n",
    "    with open(file) as f:\n",
    "        for line in f:\n",
    "            words = line.split()\n",
    "            container = words[0] + \" \" + words[1]\n",
    "            index = 5\n",
    "            list_of_colors = []\n",
    "            while index < len(words):\n",
    "                if words[index] != \"other\":\n",
    "                    list_of_colors.append(words[index] + \" \" + words[index + 1])\n",
    "                else:\n",
    "                    list_of_colors.append(\"no other\")\n",
    "                index += 4\n",
    "            rules[container] = list_of_colors\n",
    "            \n",
    "    return rules"
   ]
  },
  {
   "cell_type": "code",
   "execution_count": 73,
   "metadata": {},
   "outputs": [],
   "source": [
    "def get_parents(rules, child_color):\n",
    "    \"\"\"Finds all subsequent parents, of the child color.\n",
    "    The rules basically contain {parent: list_of_children} entries.\n",
    "    \"\"\"\n",
    "    \n",
    "    # finding firts order parents:\n",
    "    indices = [(child_color in item) for item in rules.values()]\n",
    "    parents = np.array(list(rules.keys()))[indices]\n",
    "    \n",
    "    # searching for higher order parents:\n",
    "    new_parents_found = True\n",
    "    while new_parents_found:\n",
    "        len_of_parents = parents.shape[0]\n",
    "        indices = [any(np.in1d(parents, item)) for item in rules.values()]\n",
    "        new_parents = np.array(list(rules.keys()))[indices]\n",
    "        parents = np.unique(np.concatenate((parents, new_parents)))\n",
    "        new_parents_found = (parents.shape[0] != len_of_parents)\n",
    "        \n",
    "    return parents"
   ]
  },
  {
   "cell_type": "code",
   "execution_count": 74,
   "metadata": {},
   "outputs": [
    {
     "data": {
      "text/plain": [
       "array(['bright white', 'dark orange', 'light red', 'muted yellow'],\n",
       "      dtype='<U12')"
      ]
     },
     "execution_count": 74,
     "metadata": {},
     "output_type": "execute_result"
    }
   ],
   "source": [
    "# testing:\n",
    "file = \"data/test_data.txt\"\n",
    "rules = read_file_to_dict(file)\n",
    "child_color = \"shiny gold\"\n",
    "\n",
    "parents = get_parents(rules, child_color)\n",
    "parents"
   ]
  },
  {
   "cell_type": "code",
   "execution_count": 75,
   "metadata": {},
   "outputs": [
    {
     "name": "stdout",
     "output_type": "stream",
     "text": [
      "number of possible container colors: 238\n"
     ]
    }
   ],
   "source": [
    "# real data:\n",
    "file = \"data/data.txt\"\n",
    "rules = read_file_to_dict(file)\n",
    "child_color = \"shiny gold\"\n",
    "\n",
    "parents = get_parents(rules, child_color)\n",
    "print(\"number of possible container colors: {}\".format(parents.shape[0]))"
   ]
  },
  {
   "cell_type": "markdown",
   "metadata": {},
   "source": [
    "# Task 2"
   ]
  },
  {
   "cell_type": "code",
   "execution_count": 88,
   "metadata": {},
   "outputs": [],
   "source": [
    "def read_file_to_dict_2(file):\n",
    "    \"\"\"Reads the data into a dict: {container color: list of bag colors}\"\"\"\n",
    "    \n",
    "    rules = {}\n",
    "    with open(file) as f:\n",
    "        for line in f:\n",
    "            words = line.split()\n",
    "            container = words[0] + \" \" + words[1]\n",
    "            index = 5\n",
    "            children = {}\n",
    "            while index < len(words):\n",
    "                if words[index] != \"other\":\n",
    "                    children[words[index] + \" \" + words[index + 1]] = int(words[index - 1])\n",
    "                index += 4\n",
    "            \n",
    "            rules[container] = children\n",
    "            \n",
    "    return rules"
   ]
  },
  {
   "cell_type": "code",
   "execution_count": 117,
   "metadata": {},
   "outputs": [],
   "source": [
    "def get_num_of_children(rules, parent):\n",
    "    \"\"\"returns the number of all children of the parent\n",
    "    from the dict {parent: {children1: amount1, ...}}\n",
    "    \"\"\"\n",
    "    counter = 0\n",
    "    \n",
    "    # getting all first order children:\n",
    "    children = [item for item in rules[parent].items()].copy()\n",
    "    \n",
    "    while children:\n",
    "        child = children.pop()\n",
    "        counter += child[1]\n",
    "        new_children = rules[child[0]].copy()\n",
    "        \n",
    "        if new_children:\n",
    "            # multiplying the amounts of children required by the amount of their parent required:\n",
    "            for key in new_children.keys():\n",
    "                new_children[key] *= child[1]\n",
    "\n",
    "            # appending the new children to the list.\n",
    "            children += [item for item in new_children.items()]\n",
    "    \n",
    "    return counter "
   ]
  },
  {
   "cell_type": "code",
   "execution_count": 118,
   "metadata": {},
   "outputs": [
    {
     "name": "stdout",
     "output_type": "stream",
     "text": [
      "The number of all children: 32\n"
     ]
    }
   ],
   "source": [
    "# testing 1:\n",
    "file = \"data/test_data.txt\"\n",
    "rules = read_file_to_dict_2(file)\n",
    "\n",
    "parent = \"shiny gold\"\n",
    "num_of_children = get_num_of_children(rules, parent)\n",
    "print(\"The number of all children: {}\".format(num_of_children))"
   ]
  },
  {
   "cell_type": "code",
   "execution_count": 119,
   "metadata": {},
   "outputs": [
    {
     "name": "stdout",
     "output_type": "stream",
     "text": [
      "The number of all children: 126\n"
     ]
    }
   ],
   "source": [
    "# testing 2:\n",
    "file = \"data/test_data_2.txt\"\n",
    "rules = read_file_to_dict_2(file)\n",
    "\n",
    "parent = \"shiny gold\"\n",
    "num_of_children = get_num_of_children(rules, parent)\n",
    "print(\"The number of all children: {}\".format(num_of_children))"
   ]
  },
  {
   "cell_type": "code",
   "execution_count": 120,
   "metadata": {},
   "outputs": [
    {
     "name": "stdout",
     "output_type": "stream",
     "text": [
      "The number of all children: 182\n"
     ]
    }
   ],
   "source": [
    "# testing 3:\n",
    "file = \"data/test_data_3.txt\"\n",
    "rules = read_file_to_dict_2(file)\n",
    "\n",
    "parent = \"shiny gold\"\n",
    "num_of_children = get_num_of_children(rules, parent)\n",
    "print(\"The number of all children: {}\".format(num_of_children))"
   ]
  },
  {
   "cell_type": "code",
   "execution_count": 121,
   "metadata": {},
   "outputs": [
    {
     "name": "stdout",
     "output_type": "stream",
     "text": [
      "The number of all children: 82930\n"
     ]
    }
   ],
   "source": [
    "# real data:\n",
    "file = \"data/data.txt\"\n",
    "rules = read_file_to_dict_2(file)\n",
    "\n",
    "parent = \"shiny gold\"\n",
    "num_of_children = get_num_of_children(rules, parent)\n",
    "print(\"The number of all children: {}\".format(num_of_children))"
   ]
  },
  {
   "cell_type": "code",
   "execution_count": null,
   "metadata": {},
   "outputs": [],
   "source": []
  }
 ],
 "metadata": {
  "kernelspec": {
   "display_name": "Python 3",
   "language": "python",
   "name": "python3"
  },
  "language_info": {
   "codemirror_mode": {
    "name": "ipython",
    "version": 3
   },
   "file_extension": ".py",
   "mimetype": "text/x-python",
   "name": "python",
   "nbconvert_exporter": "python",
   "pygments_lexer": "ipython3",
   "version": "3.8.6"
  }
 },
 "nbformat": 4,
 "nbformat_minor": 4
}
