{
 "cells": [
  {
   "cell_type": "markdown",
   "metadata": {},
   "source": [
    "# Task 1"
   ]
  },
  {
   "cell_type": "code",
   "execution_count": 1,
   "metadata": {},
   "outputs": [],
   "source": [
    "def read_data(file):\n",
    "    \"\"\"Reads the file and returns:\n",
    "    - the rules in the form:\n",
    "        rules = {\"rule_1\": [[lower_1, upper_1], [lower_2, upper_2]], ...}\n",
    "    - my ticket as a list\n",
    "    - the other tickets as a list of lists:\n",
    "    \"\"\"\n",
    "    \n",
    "    with open(file) as f:\n",
    "        lines = [line[: -1] for line in f]\n",
    "    \n",
    "    your_ticket_index = lines.index(\"your ticket:\")\n",
    "    rules_lines = lines[: your_ticket_index - 1]\n",
    "    your_ticket_line = lines[your_ticket_index + 1]\n",
    "    nearby_tickets_lines = lines[your_ticket_index + 4: ]\n",
    "    \n",
    "    # extracting the rules:\n",
    "    rules = {}\n",
    "    for line in rules_lines:\n",
    "        rule = line[: line.find(':')]\n",
    "        first_interval = line[line.find(':') + 2: line.find(\" or \")]\n",
    "        second_interval = line[line.find(\" or \") + 4: ]\n",
    "        \n",
    "        rule_args = []\n",
    "        rule_args.append([int(bound) for bound in first_interval.split('-')])\n",
    "        rule_args.append([int(bound) for bound in second_interval.split('-')])\n",
    "        \n",
    "        rules[rule] = rule_args\n",
    "        \n",
    "    # extracting my ticket:\n",
    "    my_ticket = [int(entry) for entry in your_ticket_line.split(',')]\n",
    "    \n",
    "    # extracting the other tickets\n",
    "    other_tickets = []\n",
    "    for line in nearby_tickets_lines:\n",
    "        other_tickets.append([int(entry) for entry in line.split(',')])\n",
    "    \n",
    "    return rules, my_ticket, other_tickets    "
   ]
  },
  {
   "cell_type": "code",
   "execution_count": 2,
   "metadata": {},
   "outputs": [],
   "source": [
    "def get_error_rate(rules, other_tickets):\n",
    "    \"\"\"Gets the ticket scanning rate according to the calculation in the task description.\"\"\"\n",
    "    \n",
    "    non_compliant_nums = []\n",
    "    \n",
    "    for ticket in other_tickets:\n",
    "        for num in ticket:\n",
    "            if not is_compliant(num, rules):\n",
    "                non_compliant_nums.append(num)\n",
    "    \n",
    "    return sum(non_compliant_nums)\n",
    "\n",
    "\n",
    "def is_compliant(num, rules):\n",
    "    \"\"\"Checks if the number is compliant to any of the rules in rules.\"\"\"\n",
    "    \n",
    "    for rule_arg in rules.values():\n",
    "        if (rule_arg[0][0] <= num <= rule_arg[0][1]) or \\\n",
    "           (rule_arg[1][0] <= num <= rule_arg[1][1]):\n",
    "            return True\n",
    "    return False"
   ]
  },
  {
   "cell_type": "code",
   "execution_count": 3,
   "metadata": {},
   "outputs": [
    {
     "name": "stdout",
     "output_type": "stream",
     "text": [
      "The error rate is: 71\n"
     ]
    }
   ],
   "source": [
    "# testing:\n",
    "file = \"data/test_data.txt\"\n",
    "rules, my_ticket, other_tickets = read_data(file)\n",
    "error_rate = get_error_rate(rules, other_tickets)\n",
    "print(\"The error rate is: {}\".format(error_rate))"
   ]
  },
  {
   "cell_type": "code",
   "execution_count": 4,
   "metadata": {},
   "outputs": [
    {
     "name": "stdout",
     "output_type": "stream",
     "text": [
      "The error rate is: 29878\n"
     ]
    }
   ],
   "source": [
    "# real data:\n",
    "file = \"data/data.txt\"\n",
    "rules, my_ticket, other_tickets = read_data(file)\n",
    "error_rate = get_error_rate(rules, other_tickets)\n",
    "print(\"The error rate is: {}\".format(error_rate))"
   ]
  },
  {
   "cell_type": "markdown",
   "metadata": {},
   "source": [
    "# Task 2"
   ]
  },
  {
   "cell_type": "code",
   "execution_count": 10,
   "metadata": {},
   "outputs": [],
   "source": [
    "import numpy as np"
   ]
  },
  {
   "cell_type": "code",
   "execution_count": 7,
   "metadata": {},
   "outputs": [],
   "source": [
    "def sort_valid_tickets(other_tickets, rules):\n",
    "    \"\"\"Returns only the valid tickets.\"\"\"\n",
    "    \n",
    "    compliant_tickets = []\n",
    "    for ticket in other_tickets:\n",
    "        compliance = [is_compliant(num, rules) for num in ticket]\n",
    "        if all(compliance):\n",
    "            compliant_tickets.append(ticket)\n",
    "    \n",
    "    return compliant_tickets"
   ]
  },
  {
   "cell_type": "code",
   "execution_count": 18,
   "metadata": {},
   "outputs": [],
   "source": [
    "def get_fulfilled_rules(other_tickets, rules):\n",
    "    \"\"\"Gets the list of rules for every column in other tickets, which every ticket fulfills.\"\"\"\n",
    "    \n",
    "    tickets = np.array(other_tickets)\n",
    "    fulfilled_rules = []\n",
    "    column_rules = []\n",
    "    \n",
    "    for i in range(tickets.shape[1]):\n",
    "        column = tickets[:, i]\n",
    "        for rule in rules.keys():\n",
    "            if (((rules[rule][0][0] <= column) & (column <= rules[rule][0][1])) | \\\n",
    "               ((rules[rule][1][0] <= column) & (column <= rules[rule][1][1]))).all():\n",
    "                column_rules.append(rule)\n",
    "        \n",
    "        fulfilled_rules.append(column_rules)\n",
    "        column_rules = []\n",
    "    \n",
    "    return fulfilled_rules"
   ]
  },
  {
   "cell_type": "code",
   "execution_count": 77,
   "metadata": {},
   "outputs": [],
   "source": [
    "def get_column_rules(fulfilled_rules, rules):\n",
    "    \"\"\"Gets the one single rule for every column so that the column\n",
    "    fulfills that rule and every rule is used once.\n",
    "    \"\"\"\n",
    "    \n",
    "    # sorting the fulfilled rules based on how many entries they have:\n",
    "    # another list for later being able to reconstruct the original column order:\n",
    "    rules_with_index = [{i: item} for i, item in enumerate(fulfilled_rules)]\n",
    "    # helper function to order the list of dict based on the lengt of the lists in it:\n",
    "    def get_len(dict_item): return len(list(dict_item.values())[0])\n",
    "    rules_with_index.sort(key=get_len)\n",
    "    fulfilled_rules.sort(key=len)\n",
    "    \n",
    "    # searching with depth first search:\n",
    "    queue = [[]]\n",
    "    indices_to_try = np.array([0 for _ in range(len(fulfilled_rules))])\n",
    "    \n",
    "    while queue:\n",
    "        elem = queue.pop()\n",
    "        column_index = len(elem)         \n",
    "        options = fulfilled_rules[column_index]\n",
    "        index = indices_to_try[column_index]\n",
    "        \n",
    "        if index < len(options):\n",
    "            # getting the potential new element and only adding it to the queue if it is valid:\n",
    "            new_rule = options[index]\n",
    "            if new_rule not in elem:\n",
    "                new_elem = elem.copy()\n",
    "                new_elem.append(new_rule)\n",
    "                if len(new_elem) == len(fulfilled_rules):\n",
    "                    print(\"Feasible solution found!\")\n",
    "                    return sort_back_to_original(new_elem, rules_with_index)\n",
    "                else:\n",
    "                    queue.append(elem)\n",
    "                    queue.append(new_elem)\n",
    "                    indices_to_try[column_index + 1: ] = 0\n",
    "            else:\n",
    "                queue.append(elem)\n",
    "                \n",
    "            indices_to_try[column_index] += 1\n",
    "        \n",
    "    \n",
    "    print(\"No feasible solution found!\")\n",
    "    return None\n",
    "                                                 \n",
    "                                                 \n",
    "\n",
    "def sort_back_to_original(rules_list, rules_with_index):\n",
    "    \"\"\"Sorts the solution list back to the original column order.\"\"\"\n",
    "    return_list = [\"\"] * len(rules_list)\n",
    "    \n",
    "    for i, rule in enumerate(rules_list):\n",
    "        return_list[list(rules_with_index[i].keys())[0]] = rule\n",
    "    \n",
    "    return return_list"
   ]
  },
  {
   "cell_type": "code",
   "execution_count": 83,
   "metadata": {},
   "outputs": [],
   "source": [
    "def get_multiplicative(my_ticket, column_rules):\n",
    "    \"\"\"Gets the multiplicative of the values in my tocket which contain\n",
    "    the keyword departure.\n",
    "    \"\"\"\n",
    "    mult = 1\n",
    "    for i, rule in enumerate(column_rules):\n",
    "        if \"departure\" in rule:\n",
    "            mult *= my_ticket[i]\n",
    "            \n",
    "    return mult"
   ]
  },
  {
   "cell_type": "code",
   "execution_count": 78,
   "metadata": {},
   "outputs": [
    {
     "name": "stdout",
     "output_type": "stream",
     "text": [
      "Options to fulfill:\n",
      "[['row'], ['class', 'row'], ['class', 'row', 'seat']]\n",
      "Feasible solution found!\n",
      "Column rules:\n",
      "['row', 'class', 'seat']\n"
     ]
    }
   ],
   "source": [
    "# testing:\n",
    "file = \"data/test_data_2.txt\"\n",
    "rules, my_ticket, other_tickets = read_data(file)\n",
    "other_tickets = sort_valid_tickets(other_tickets, rules)\n",
    "fulfilled_rules = get_fulfilled_rules(other_tickets, rules)\n",
    "print(\"Options to fulfill:\")\n",
    "print(fulfilled_rules)\n",
    "column_rules = get_column_rules(fulfilled_rules, rules)\n",
    "print(\"Column rules:\")\n",
    "print(column_rules)"
   ]
  },
  {
   "cell_type": "code",
   "execution_count": 84,
   "metadata": {},
   "outputs": [
    {
     "name": "stdout",
     "output_type": "stream",
     "text": [
      "Options to fulfill:\n",
      "[['departure station', 'departure track', 'departure time', 'arrival location', 'arrival platform', 'arrival track', 'price', 'route', 'type', 'wagon', 'zone'], ['departure location', 'departure station', 'departure platform', 'departure track', 'departure date', 'departure time', 'arrival location', 'arrival station', 'arrival platform', 'arrival track', 'class', 'duration', 'price', 'route', 'row', 'seat', 'train', 'type', 'wagon', 'zone'], ['arrival platform', 'price'], ['departure location', 'departure station', 'departure platform', 'departure track', 'departure date', 'departure time', 'arrival location', 'arrival platform', 'arrival track', 'class', 'price', 'route', 'seat', 'train', 'type', 'wagon', 'zone'], ['departure location', 'departure station', 'departure platform', 'departure track', 'departure date', 'departure time', 'arrival location', 'arrival platform', 'arrival track', 'class', 'price', 'route', 'seat', 'type', 'wagon', 'zone'], ['departure station', 'departure platform', 'departure track', 'departure date', 'departure time', 'arrival location', 'arrival platform', 'arrival track', 'price', 'route', 'type', 'wagon', 'zone'], ['arrival location', 'arrival platform', 'arrival track', 'price', 'route', 'type', 'wagon', 'zone'], ['arrival platform', 'arrival track', 'price', 'route', 'wagon'], ['departure location', 'departure station', 'departure platform', 'departure track', 'departure date', 'departure time', 'arrival location', 'arrival platform', 'arrival track', 'class', 'price', 'route', 'type', 'wagon', 'zone'], ['departure location', 'departure station', 'departure platform', 'departure track', 'departure date', 'departure time', 'arrival location', 'arrival station', 'arrival platform', 'arrival track', 'class', 'duration', 'price', 'route', 'seat', 'train', 'type', 'wagon', 'zone'], ['departure time', 'arrival location', 'arrival platform', 'arrival track', 'price', 'route', 'type', 'wagon', 'zone'], ['price'], ['departure location', 'departure station', 'departure platform', 'departure track', 'departure date', 'departure time', 'arrival location', 'arrival platform', 'arrival track', 'class', 'duration', 'price', 'route', 'seat', 'train', 'type', 'wagon', 'zone'], ['arrival platform', 'arrival track', 'price', 'wagon'], ['departure station', 'departure track', 'departure date', 'departure time', 'arrival location', 'arrival platform', 'arrival track', 'price', 'route', 'type', 'wagon', 'zone'], ['departure location', 'departure station', 'departure platform', 'departure track', 'departure date', 'departure time', 'arrival location', 'arrival platform', 'arrival track', 'price', 'route', 'type', 'wagon', 'zone'], ['arrival location', 'arrival platform', 'arrival track', 'price', 'route', 'wagon'], ['departure station', 'departure time', 'arrival location', 'arrival platform', 'arrival track', 'price', 'route', 'type', 'wagon', 'zone'], ['arrival platform', 'arrival track', 'price'], ['arrival location', 'arrival platform', 'arrival track', 'price', 'route', 'type', 'wagon']]\n",
      "Feasible solution found!\n",
      "Column rules:\n",
      "['departure track', 'row', 'arrival platform', 'train', 'seat', 'departure platform', 'zone', 'route', 'class', 'arrival station', 'departure time', 'price', 'duration', 'wagon', 'departure date', 'departure location', 'arrival location', 'departure station', 'arrival track', 'type']\n",
      "The multiplicative of the fields which contain departure: 855438643439\n"
     ]
    }
   ],
   "source": [
    "# real data:\n",
    "file = \"data/data.txt\"\n",
    "rules, my_ticket, other_tickets = read_data(file)\n",
    "other_tickets = sort_valid_tickets(other_tickets, rules)\n",
    "fulfilled_rules = get_fulfilled_rules(other_tickets, rules)\n",
    "print(\"Options to fulfill:\")\n",
    "print(fulfilled_rules)\n",
    "column_rules = get_column_rules(fulfilled_rules, rules)\n",
    "print(\"Column rules:\")\n",
    "print(column_rules)\n",
    "print(\"The multiplicative of the fields which contain departure: {}\".format(\n",
    "    get_multiplicative(my_ticket, column_rules)))"
   ]
  },
  {
   "cell_type": "code",
   "execution_count": null,
   "metadata": {},
   "outputs": [],
   "source": []
  }
 ],
 "metadata": {
  "kernelspec": {
   "display_name": "Python 3",
   "language": "python",
   "name": "python3"
  },
  "language_info": {
   "codemirror_mode": {
    "name": "ipython",
    "version": 3
   },
   "file_extension": ".py",
   "mimetype": "text/x-python",
   "name": "python",
   "nbconvert_exporter": "python",
   "pygments_lexer": "ipython3",
   "version": "3.8.6"
  }
 },
 "nbformat": 4,
 "nbformat_minor": 4
}
