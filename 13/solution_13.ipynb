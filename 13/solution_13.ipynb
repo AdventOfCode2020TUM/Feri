{
 "cells": [
  {
   "cell_type": "markdown",
   "metadata": {},
   "source": [
    "# Task 1"
   ]
  },
  {
   "cell_type": "code",
   "execution_count": 1,
   "metadata": {},
   "outputs": [],
   "source": [
    "import math"
   ]
  },
  {
   "cell_type": "code",
   "execution_count": 2,
   "metadata": {},
   "outputs": [],
   "source": [
    "def read_data(file):\n",
    "    \"\"\"Reads in the busses and the first possible departure time.\"\"\"\n",
    "    with open(file) as f:\n",
    "        lines = [line[: -1] for line in f]\n",
    "        time = int(lines[0])\n",
    "        busses = [int(bus) for bus in lines[1].split(',') if bus != 'x']\n",
    "        \n",
    "    return busses, time      "
   ]
  },
  {
   "cell_type": "code",
   "execution_count": 3,
   "metadata": {},
   "outputs": [],
   "source": [
    "def find_earliest_departure(busses, time):\n",
    "    \"\"\"For all busses it finds the earliest departure after (including) time.\"\"\"\n",
    "    deps = []\n",
    "    for bus in busses:\n",
    "        n_exact = time / bus\n",
    "        n_floor = math.floor(n_exact)\n",
    "        if n_floor != n_exact: n_floor += 1\n",
    "        deps.append(n_floor * bus)\n",
    "        \n",
    "    return deps"
   ]
  },
  {
   "cell_type": "code",
   "execution_count": 4,
   "metadata": {},
   "outputs": [
    {
     "name": "stdout",
     "output_type": "stream",
     "text": [
      "Answer: 295\n"
     ]
    }
   ],
   "source": [
    "# testing:\n",
    "file = \"data/test_data.txt\"\n",
    "busses, time = read_data(file)\n",
    "deps = find_earliest_departure(busses, time)\n",
    "earliest = min(deps)\n",
    "bus = busses[deps.index(earliest)]\n",
    "waiting_time = earliest - time\n",
    "print(\"Answer: {}\".format(waiting_time * bus))"
   ]
  },
  {
   "cell_type": "code",
   "execution_count": 5,
   "metadata": {},
   "outputs": [
    {
     "name": "stdout",
     "output_type": "stream",
     "text": [
      "Answer: 259\n"
     ]
    }
   ],
   "source": [
    "# real data:\n",
    "file = \"data/data.txt\"\n",
    "busses, time = read_data(file)\n",
    "deps = find_earliest_departure(busses, time)\n",
    "earliest = min(deps)\n",
    "bus = busses[deps.index(earliest)]\n",
    "waiting_time = earliest - time\n",
    "print(\"Answer: {}\".format(waiting_time * bus))"
   ]
  },
  {
   "cell_type": "markdown",
   "metadata": {},
   "source": [
    "# Task 2"
   ]
  },
  {
   "cell_type": "code",
   "execution_count": 6,
   "metadata": {},
   "outputs": [],
   "source": [
    "import numpy as np\n",
    "from smithnormalform import matrix, snfproblem, z"
   ]
  },
  {
   "cell_type": "code",
   "execution_count": 7,
   "metadata": {},
   "outputs": [],
   "source": [
    "def read_data_2(file):\n",
    "    \"\"\"reads in the data and includes the index of each bus.\"\"\"\n",
    "    with open(file) as f:\n",
    "        lines = [line[: -1] for line in f]\n",
    "    busses = [[i, int(bus)] for i, bus in enumerate(lines[1].split(',')) if bus != 'x']\n",
    "    return np.array(busses)"
   ]
  },
  {
   "cell_type": "code",
   "execution_count": 28,
   "metadata": {},
   "outputs": [],
   "source": [
    "def solver(busses):\n",
    "    \"\"\"solves the problem\"\"\"\n",
    "    sol = 0\n",
    "    \n",
    "    increment = busses[:, 1].max()\n",
    "    delay = busses[busses[:, 1].argmax(), 0]\n",
    "    busses = busses[busses[:, 1] != increment]\n",
    "    \n",
    "    while busses.any():\n",
    "        sol += increment\n",
    "        t_0 = sol - delay\n",
    "        times = t_0 + busses[:, 0]\n",
    "        \n",
    "        # checking if there is any match:\n",
    "        remainders = times % busses[:, 1]\n",
    "        if not remainders.all():\n",
    "            nums = [increment]\n",
    "            \n",
    "            for i, bus in enumerate(busses[:, 1]):\n",
    "                if not remainders[i]:\n",
    "                    print(\"Found match for bus: {}\".format(bus))\n",
    "                    nums.append(bus)\n",
    "            \n",
    "            busses = busses[remainders != 0]             \n",
    "            increment = lcm(nums)\n",
    "            print(\"New smallest common multiplier: {}\".format(increment))\n",
    "                    \n",
    "    return sol - delay"
   ]
  },
  {
   "cell_type": "code",
   "execution_count": 9,
   "metadata": {},
   "outputs": [],
   "source": [
    "def lcm(numbers):\n",
    "    \"\"\"Finds the smallest common multiplicative of the numbers in the list.\"\"\"\n",
    "    a = np.lcm(numbers[0], numbers[1])\n",
    "    for num in numbers[2:]:\n",
    "        a = np.lcm(a, num)\n",
    "        \n",
    "    return a"
   ]
  },
  {
   "cell_type": "code",
   "execution_count": 29,
   "metadata": {},
   "outputs": [
    {
     "name": "stdout",
     "output_type": "stream",
     "text": [
      "Found match for bus: 7\n",
      "Found match for bus: 13\n",
      "New smallest common multiplier: 5369\n",
      "Found match for bus: 19\n",
      "New smallest common multiplier: 102011\n",
      "Found match for bus: 31\n",
      "New smallest common multiplier: 3162341\n",
      "The solution is: 1068781\n"
     ]
    }
   ],
   "source": [
    "# testing:\n",
    "file = \"data/test_data.txt\"\n",
    "busses = read_data_2(file)\n",
    "solution = solver(busses)\n",
    "print(\"The solution is: {}\".format(solution))"
   ]
  },
  {
   "cell_type": "code",
   "execution_count": 30,
   "metadata": {},
   "outputs": [
    {
     "name": "stdout",
     "output_type": "stream",
     "text": [
      "Found match for bus: 29\n",
      "New smallest common multiplier: 24737\n",
      "Found match for bus: 37\n",
      "New smallest common multiplier: 915269\n",
      "Found match for bus: 41\n",
      "New smallest common multiplier: 37526029\n",
      "Found match for bus: 19\n",
      "Found match for bus: 17\n",
      "New smallest common multiplier: 12120907367\n",
      "Found match for bus: 13\n",
      "New smallest common multiplier: 157571795771\n",
      "Found match for bus: 23\n",
      "New smallest common multiplier: 3624151302733\n",
      "Found match for bus: 523\n",
      "New smallest common multiplier: 1895431131329359\n",
      "The solution is: 210612924879242\n"
     ]
    }
   ],
   "source": [
    "# real data:\n",
    "# testing:\n",
    "file = \"data/data.txt\"\n",
    "busses = read_data_2(file)\n",
    "solution = solver(busses)\n",
    "print(\"The solution is: {}\".format(solution))"
   ]
  },
  {
   "cell_type": "code",
   "execution_count": null,
   "metadata": {},
   "outputs": [],
   "source": []
  }
 ],
 "metadata": {
  "kernelspec": {
   "display_name": "Python 3",
   "language": "python",
   "name": "python3"
  },
  "language_info": {
   "codemirror_mode": {
    "name": "ipython",
    "version": 3
   },
   "file_extension": ".py",
   "mimetype": "text/x-python",
   "name": "python",
   "nbconvert_exporter": "python",
   "pygments_lexer": "ipython3",
   "version": "3.8.6"
  }
 },
 "nbformat": 4,
 "nbformat_minor": 4
}
