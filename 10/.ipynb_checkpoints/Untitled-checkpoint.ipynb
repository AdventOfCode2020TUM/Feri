{
 "cells": [
  {
   "cell_type": "markdown",
   "metadata": {},
   "source": [
    "# Task 1"
   ]
  },
  {
   "cell_type": "code",
   "execution_count": 1,
   "metadata": {},
   "outputs": [],
   "source": [
    "import numpy as np"
   ]
  },
  {
   "cell_type": "code",
   "execution_count": 8,
   "metadata": {},
   "outputs": [],
   "source": [
    "def read_and_sort(file):\n",
    "    \"\"\"Reads the file and returns a sorted numpy array with the data.\"\"\"\n",
    "    \n",
    "    data = []\n",
    "    with open(file) as f:\n",
    "        for line in f:\n",
    "            data.append(int(line[0: -1]))\n",
    "            \n",
    "    data.sort()\n",
    "    return np.array(data)"
   ]
  },
  {
   "cell_type": "code",
   "execution_count": 22,
   "metadata": {},
   "outputs": [],
   "source": [
    "def get_differences(data):\n",
    "    \"\"\"appends the zero and last adapter, which is bigger by 3 then the last one to the array and calculates the\n",
    "    differences between the subsequent elements.\n",
    "    \"\"\"\n",
    "    \n",
    "    data = np.append(data, data[-1] + 3)\n",
    "    data = np.append(np.array([0]), data)\n",
    "    return data[1: ] - data[: -1]"
   ]
  },
  {
   "cell_type": "code",
   "execution_count": 24,
   "metadata": {},
   "outputs": [
    {
     "name": "stdout",
     "output_type": "stream",
     "text": [
      "num of 1s: 22\n",
      "num of 3s: 10\n",
      "the multiplicative of them: 220\n"
     ]
    }
   ],
   "source": [
    "# testing:\n",
    "file = \"data/test_data.txt\"\n",
    "data = read_and_sort(file)\n",
    "differences = get_differences(data)\n",
    "num_ones = np.count_nonzero(differences == 1)\n",
    "num_threes = np.count_nonzero(differences == 3)\n",
    "print(\"num of 1s: {}\".format(num_ones))\n",
    "print(\"num of 3s: {}\".format(num_threes))\n",
    "print(\"the multiplicative of them: {}\".format(num_ones * num_threes))"
   ]
  },
  {
   "cell_type": "code",
   "execution_count": 33,
   "metadata": {},
   "outputs": [
    {
     "name": "stdout",
     "output_type": "stream",
     "text": [
      "num of 1s: 70\n",
      "num of 3s: 34\n",
      "the multiplicative of them: 2380\n"
     ]
    }
   ],
   "source": [
    "# Real data:\n",
    "file = \"data/data.txt\"\n",
    "data = read_and_sort(file)\n",
    "differences = get_differences(data)\n",
    "num_ones = np.count_nonzero(differences == 1)\n",
    "num_threes = np.count_nonzero(differences == 3)\n",
    "print(\"num of 1s: {}\".format(num_ones))\n",
    "print(\"num of 3s: {}\".format(num_threes))\n",
    "print(\"the multiplicative of them: {}\".format(num_ones * num_threes))"
   ]
  },
  {
   "cell_type": "code",
   "execution_count": 35,
   "metadata": {},
   "outputs": [
    {
     "data": {
      "text/plain": [
       "0"
      ]
     },
     "execution_count": 35,
     "metadata": {},
     "output_type": "execute_result"
    }
   ],
   "source": [
    "np.count_nonzero(differences == 2)"
   ]
  },
  {
   "cell_type": "markdown",
   "metadata": {},
   "source": [
    "# Task 2"
   ]
  },
  {
   "cell_type": "code",
   "execution_count": 31,
   "metadata": {},
   "outputs": [],
   "source": [
    "def get_blocks(data):\n",
    "    \"\"\"Gets independent blocks from the data in which it is possible to leave out some\n",
    "    elements and still get a valid series. Returns a list of np.arrays().\n",
    "    \"\"\"\n",
    "    \n",
    "    # augmenting the data with 0 at the beginning:\n",
    "    data = np.append(np.array([0]), data)\n",
    "    \n",
    "    # running indices and other variables:\n",
    "    i = 0\n",
    "    blocks = []\n",
    "    block = []\n",
    "    \n",
    "    # getting the blocks:\n",
    "    while i < (data.shape[0] - 2):\n",
    "        if (data[i + 2] - data[i]) < 3:\n",
    "            block.append(data[i])\n",
    "        else:\n",
    "            if block:\n",
    "                # appending the last 2 datapoints which still belong here:\n",
    "                block.append(data[i])\n",
    "                block.append(data[i + 1])\n",
    "                # appending the new block to the list of blocks:\n",
    "                blocks.append(np.array(block))\n",
    "                block = []\n",
    "        i += 1\n",
    "        \n",
    "    # appending the last block if it is not empty:\n",
    "    if block:\n",
    "        # appending the last 2 datapoints which still belong here:\n",
    "        block.append(data[i])\n",
    "        block.append(data[i + 1])\n",
    "        # appending the new block to the list of blocks:\n",
    "        blocks.append(np.array(block))\n",
    "        block = []\n",
    "    \n",
    "    return blocks"
   ]
  },
  {
   "cell_type": "code",
   "execution_count": 38,
   "metadata": {},
   "outputs": [],
   "source": [
    "def count_subsets(nums):\n",
    "    \"\"\"Counts the number of valid subsets of the array of numbers nums.\n",
    "    Uses depth first search: The queue contains entries of the form:\n",
    "            [index, bool, last_true]\n",
    "    where index is the index of a value in the array and bool is whether to keep it in the array or not.\n",
    "    last_true is the value of the last number that was kept in the series. \n",
    "    Actually the bool is not even used, but it helps the understanding of the code.\n",
    "    The first and the last number has to be in the set, this is why a series is excepted if the last\n",
    "    number was reached with it.\n",
    "    \"\"\"\n",
    "    \n",
    "    # appending the first 2 nodes of the tree:\n",
    "    queue = []\n",
    "    queue.append([1, True, nums[1]])\n",
    "    queue.append([1, False, nums[0]])\n",
    "    \n",
    "    counter = 0\n",
    "    \n",
    "    while queue:\n",
    "        # pop the last node::\n",
    "        node = queue.pop()\n",
    "        i = node[0]\n",
    "        last_true = node[2]\n",
    "        \n",
    "        # Try to expand the last node:\n",
    "        if (nums[i + 1] - last_true) <= 3:\n",
    "            if (i + 1) == (nums.shape[0] - 1):\n",
    "                # we have reached the end of the chain on this branch:\n",
    "                counter += 1\n",
    "            else:\n",
    "                # expanding the node further by adding the 2 options to queue:\n",
    "                queue.append([i + 1, True, nums[i + 1]])\n",
    "                queue.append([i + 1, False, last_true])\n",
    "    \n",
    "    return counter"
   ]
  },
  {
   "cell_type": "code",
   "execution_count": 43,
   "metadata": {},
   "outputs": [],
   "source": [
    "def count_all_possiblities(data):\n",
    "    \"\"\"Counts all possible combinations. It first divides the whole data into subsets.\n",
    "    Then calculates the possible solutions for all subset. Then multiplies the possibilities\n",
    "    together, since all blocks can be varies independently from eachother.\n",
    "    \"\"\"\n",
    "    # splitting the data into blocks:\n",
    "    blocks = get_blocks(data)\n",
    "    \n",
    "    # multiplying together the number of possibilities:\n",
    "    counter = 1\n",
    "    for block in blocks:\n",
    "        counter *= count_subsets(block)\n",
    "    \n",
    "    return counter"
   ]
  },
  {
   "cell_type": "code",
   "execution_count": 39,
   "metadata": {},
   "outputs": [
    {
     "name": "stdout",
     "output_type": "stream",
     "text": [
      "[ 1  2  3  4  7  8  9 10 11 14 17 18 19 20 23 24 25 28 31 32 33 34 35 38\n",
      " 39 42 45 46 47 48 49]\n",
      "[array([0, 1, 2, 3, 4]), array([ 7,  8,  9, 10, 11]), array([17, 18, 19, 20]), array([23, 24, 25]), array([31, 32, 33, 34, 35]), array([45, 46, 47, 48, 49])]\n"
     ]
    }
   ],
   "source": [
    "# testing:\n",
    "file = \"data/test_data.txt\"\n",
    "data = read_and_sort(file)\n",
    "print(data)\n",
    "blocks = get_blocks(data)\n",
    "print(blocks)"
   ]
  },
  {
   "cell_type": "code",
   "execution_count": 40,
   "metadata": {},
   "outputs": [
    {
     "name": "stdout",
     "output_type": "stream",
     "text": [
      "[0 1 2 3 4]\n",
      "7\n",
      "[ 7  8  9 10 11]\n",
      "7\n",
      "[17 18 19 20]\n",
      "4\n",
      "[23 24 25]\n",
      "2\n",
      "[31 32 33 34 35]\n",
      "7\n",
      "[45 46 47 48 49]\n",
      "7\n"
     ]
    }
   ],
   "source": [
    "for block in blocks:\n",
    "    print(block)\n",
    "    num_of_subsets = count_subsets(block)\n",
    "    print(num_of_subsets)"
   ]
  },
  {
   "cell_type": "code",
   "execution_count": 44,
   "metadata": {},
   "outputs": [
    {
     "name": "stdout",
     "output_type": "stream",
     "text": [
      "The number of all possibilities: 19208\n"
     ]
    }
   ],
   "source": [
    "num_possibilities = count_all_possiblities(data)\n",
    "print(\"The number of all possibilities: {}\".format(num_possibilities))"
   ]
  },
  {
   "cell_type": "code",
   "execution_count": 46,
   "metadata": {},
   "outputs": [
    {
     "name": "stdout",
     "output_type": "stream",
     "text": [
      "The number of all possibilities: 48358655787008\n"
     ]
    }
   ],
   "source": [
    "# real data:\n",
    "file = \"data/data.txt\"\n",
    "data = read_and_sort(file)\n",
    "num_possibilities = count_all_possiblities(data)\n",
    "print(\"The number of all possibilities: {}\".format(num_possibilities))"
   ]
  },
  {
   "cell_type": "code",
   "execution_count": null,
   "metadata": {},
   "outputs": [],
   "source": []
  }
 ],
 "metadata": {
  "kernelspec": {
   "display_name": "Python 3",
   "language": "python",
   "name": "python3"
  },
  "language_info": {
   "codemirror_mode": {
    "name": "ipython",
    "version": 3
   },
   "file_extension": ".py",
   "mimetype": "text/x-python",
   "name": "python",
   "nbconvert_exporter": "python",
   "pygments_lexer": "ipython3",
   "version": "3.8.6"
  }
 },
 "nbformat": 4,
 "nbformat_minor": 4
}
