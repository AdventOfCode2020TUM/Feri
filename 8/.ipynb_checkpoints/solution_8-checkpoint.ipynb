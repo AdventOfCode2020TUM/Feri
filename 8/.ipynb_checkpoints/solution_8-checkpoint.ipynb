{
 "cells": [
  {
   "cell_type": "markdown",
   "metadata": {},
   "source": [
    "# Task 1"
   ]
  },
  {
   "cell_type": "code",
   "execution_count": 13,
   "metadata": {},
   "outputs": [],
   "source": [
    "import numpy as np\n",
    "import copy"
   ]
  },
  {
   "cell_type": "code",
   "execution_count": 2,
   "metadata": {},
   "outputs": [],
   "source": [
    "def read_in_code(file):\n",
    "    \"\"\"Reads in code line by line and stores it in a list as follows:\n",
    "    [[is_executed_1, command_1, value_1], []...[]]\n",
    "    \"\"\"\n",
    "    code = []\n",
    "    with open(file) as f:\n",
    "        for line in f:\n",
    "            str_list = line.split()\n",
    "            code += [[False, str_list[0], int(str_list[1])]]      \n",
    "            \n",
    "    return code"
   ]
  },
  {
   "cell_type": "code",
   "execution_count": 3,
   "metadata": {},
   "outputs": [],
   "source": [
    "def exec_code(code):\n",
    "    \"\"\"executes a code line by line, accumulates the accumulator and returns it just before a \n",
    "    command would be executed for the second time. Expected form of commands:\n",
    "    list [[is_executed_1, command_1, value_1], []...[]]\n",
    "    \"\"\"\n",
    "    acc = 0\n",
    "    index = 0\n",
    "    \n",
    "    while (index != len(code)):\n",
    "        line = code[index][:]\n",
    "        if not line[0]:\n",
    "            code[index][0] = True\n",
    "            if line[1] == \"acc\":\n",
    "                acc += line[2]\n",
    "                index += 1\n",
    "            elif line[1] == \"jmp\":\n",
    "                index += line[2]\n",
    "            else:\n",
    "                index += 1\n",
    "        else:\n",
    "            break\n",
    "    \n",
    "    is_successful = (index == len(code))\n",
    "    return acc, is_successful"
   ]
  },
  {
   "cell_type": "code",
   "execution_count": 25,
   "metadata": {},
   "outputs": [
    {
     "name": "stdout",
     "output_type": "stream",
     "text": [
      "accumulator value: 5\n"
     ]
    }
   ],
   "source": [
    "# testing:\n",
    "file = \"data/test_data.txt\"\n",
    "code = read_in_code(file)\n",
    "acc, is_successful = exec_code(copy.deepcopy(code))\n",
    "print(\"accumulator value: {}\".format(acc))"
   ]
  },
  {
   "cell_type": "code",
   "execution_count": 26,
   "metadata": {},
   "outputs": [
    {
     "name": "stdout",
     "output_type": "stream",
     "text": [
      "The code is successful: False\n",
      "accumulator value: 1420\n"
     ]
    }
   ],
   "source": [
    "# real data:\n",
    "file = \"data/data.txt\"\n",
    "code = read_in_code(file)\n",
    "acc, is_successful = exec_code(copy.deepcopy(code))\n",
    "print(\"The code is successful: {}\".format(is_successful))\n",
    "print(\"accumulator value: {}\".format(acc))"
   ]
  },
  {
   "cell_type": "markdown",
   "metadata": {},
   "source": [
    "# Task 2"
   ]
  },
  {
   "cell_type": "code",
   "execution_count": 58,
   "metadata": {},
   "outputs": [],
   "source": [
    "def get_correct_code(code):\n",
    "    \"\"\"returns correct code\"\"\"\n",
    "    \n",
    "    for i, line in enumerate(code):\n",
    "        if line[1] != \"acc\":\n",
    "            new_code = copy.deepcopy(code)\n",
    "            if line[1] == \"nop\":\n",
    "                new_code[i][1] = \"jmp\"\n",
    "            else:\n",
    "                new_code[i][1] = \"nop\"\n",
    "            \n",
    "            _, is_successful = exec_code(copy.deepcopy(new_code))\n",
    "            if is_successful:\n",
    "                break\n",
    "                \n",
    "    return new_code"
   ]
  },
  {
   "cell_type": "code",
   "execution_count": 59,
   "metadata": {},
   "outputs": [
    {
     "name": "stdout",
     "output_type": "stream",
     "text": [
      "The code is successful: True\n",
      "accumulator value: 8\n"
     ]
    }
   ],
   "source": [
    "# testing:\n",
    "file = \"data/test_data.txt\"\n",
    "code = read_in_code(file)\n",
    "correct_code = get_correct_code(code)\n",
    "acc, is_successful = exec_code(copy.deepcopy(correct_code))\n",
    "print(\"The code is successful: {}\".format(is_successful))\n",
    "print(\"accumulator value: {}\".format(acc))"
   ]
  },
  {
   "cell_type": "code",
   "execution_count": 60,
   "metadata": {
    "scrolled": true
   },
   "outputs": [
    {
     "name": "stdout",
     "output_type": "stream",
     "text": [
      "The code is successful: True\n",
      "accumulator value: 1245\n"
     ]
    }
   ],
   "source": [
    "# testing:\n",
    "file = \"data/data.txt\"\n",
    "code = read_in_code(file)\n",
    "correct_code = get_correct_code(code)\n",
    "acc, is_successful = exec_code(copy.deepcopy(correct_code))\n",
    "print(\"The code is successful: {}\".format(is_successful))\n",
    "print(\"accumulator value: {}\".format(acc))"
   ]
  },
  {
   "cell_type": "code",
   "execution_count": null,
   "metadata": {},
   "outputs": [],
   "source": []
  }
 ],
 "metadata": {
  "kernelspec": {
   "display_name": "Python 3",
   "language": "python",
   "name": "python3"
  },
  "language_info": {
   "codemirror_mode": {
    "name": "ipython",
    "version": 3
   },
   "file_extension": ".py",
   "mimetype": "text/x-python",
   "name": "python",
   "nbconvert_exporter": "python",
   "pygments_lexer": "ipython3",
   "version": "3.8.6"
  }
 },
 "nbformat": 4,
 "nbformat_minor": 4
}
