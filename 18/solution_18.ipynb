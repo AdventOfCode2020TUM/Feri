{
 "cells": [
  {
   "cell_type": "markdown",
   "metadata": {},
   "source": [
    "# Task 1"
   ]
  },
  {
   "cell_type": "code",
   "execution_count": 5,
   "metadata": {},
   "outputs": [],
   "source": [
    "def create_equations(file):\n",
    "    \"\"\"Reads in the file and creates equations from it.\"\"\"\n",
    "    equations = []\n",
    "    with open(file) as f:\n",
    "        lines = [line[: -1] for line in f]\n",
    "        \n",
    "    for line in lines:\n",
    "        eq = {}\n",
    "        key = \"main\"\n",
    "        eq[key] = []\n",
    "        key_queue = []\n",
    "        subeq_counter = 0\n",
    "        chars = list(line)\n",
    "        \n",
    "        for char in chars:\n",
    "            if char != ' ':\n",
    "                if char == '(':\n",
    "                    eq[key].append(\"sub\" + str(subeq_counter))\n",
    "                    # pushing the key that was used until now into the queue for later use:\n",
    "                    key_queue.append(key)\n",
    "                    # creating the new key:\n",
    "                    key = \"sub\" + str(subeq_counter)\n",
    "                    eq[key] = []\n",
    "                    subeq_counter += 1\n",
    "                elif char == ')':\n",
    "                    key = key_queue.pop()\n",
    "                else:\n",
    "                    eq[key].append(char)\n",
    "        equations.append(eq)\n",
    "        \n",
    "    return equations"
   ]
  },
  {
   "cell_type": "code",
   "execution_count": 8,
   "metadata": {},
   "outputs": [],
   "source": [
    "def solve_equation(eq, key=\"main\"):\n",
    "    \"\"\"Solves the equation under the key in eq.\"\"\"\n",
    "    val = 0\n",
    "    operand = '+'\n",
    "    \n",
    "    for entry in eq[key]:\n",
    "        if entry in ['+', '*']:\n",
    "            operand = entry\n",
    "        else:\n",
    "            if \"sub\" in entry:\n",
    "                arg = solve_equation(eq, key=entry)\n",
    "            else:\n",
    "                arg = int(entry)\n",
    "            \n",
    "            if operand == '+':\n",
    "                val += arg\n",
    "            else: \n",
    "                val *= arg\n",
    "    \n",
    "    return val"
   ]
  },
  {
   "cell_type": "code",
   "execution_count": 31,
   "metadata": {},
   "outputs": [],
   "source": [
    "def sum_up_solutions(equations, solver):\n",
    "    \"\"\"Sums up the solution of every equation in the list.\"\"\"\n",
    "    \n",
    "    i = 0\n",
    "    for eq in equations:\n",
    "        i += solver(eq)\n",
    "    \n",
    "    return i"
   ]
  },
  {
   "cell_type": "code",
   "execution_count": 6,
   "metadata": {},
   "outputs": [
    {
     "name": "stdout",
     "output_type": "stream",
     "text": [
      "[{'main': ['1', '+', 'sub0', '+', 'sub1'], 'sub0': ['2', '*', '3'], 'sub1': ['4', '*', 'sub2'], 'sub2': ['5', '+', '6']}]\n"
     ]
    }
   ],
   "source": [
    "# testing:\n",
    "file = \"data/test_data_1.txt\"\n",
    "equations = create_equations(file)\n",
    "print(equations)"
   ]
  },
  {
   "cell_type": "code",
   "execution_count": 9,
   "metadata": {},
   "outputs": [
    {
     "name": "stdout",
     "output_type": "stream",
     "text": [
      "Test1 solution: 51\n"
     ]
    }
   ],
   "source": [
    "print(\"Test1 solution: {}\".format(solve_equation(equations[0])))"
   ]
  },
  {
   "cell_type": "code",
   "execution_count": 30,
   "metadata": {},
   "outputs": [
    {
     "name": "stdout",
     "output_type": "stream",
     "text": [
      "The sum of the solutions is: 11004703763391\n"
     ]
    }
   ],
   "source": [
    "# real data:\n",
    "file = \"data/data.txt\"\n",
    "equations = create_equations(file)\n",
    "print(\"The sum of the solutions is: {}\".format(sum_up_solutions(equations, solve_equation)))"
   ]
  },
  {
   "cell_type": "markdown",
   "metadata": {},
   "source": [
    "# Task 2"
   ]
  },
  {
   "cell_type": "code",
   "execution_count": 13,
   "metadata": {},
   "outputs": [],
   "source": [
    "import numpy as np"
   ]
  },
  {
   "cell_type": "code",
   "execution_count": 24,
   "metadata": {},
   "outputs": [],
   "source": [
    "def solve_equation_2(eq, key=\"main\"):\n",
    "    \"\"\"Solves the equation with the other way around operation precedence.\n",
    "    First it creates an intermediate list where each entry is the sum of a part of the whole equation.\n",
    "    At the end the values in this list are multiplied together.\n",
    "    \"\"\"\n",
    "    \n",
    "    val = 0\n",
    "    intermediate_list = []\n",
    "    \n",
    "    for entry in eq[key]:\n",
    "        if entry == '*':\n",
    "            intermediate_list.append(val)\n",
    "            val = 0\n",
    "        elif entry != '+':\n",
    "            if \"sub\" in entry:\n",
    "                arg = solve_equation_2(eq, key=entry)\n",
    "            else:\n",
    "                arg = int(entry)\n",
    "            \n",
    "            val += arg\n",
    "    \n",
    "    # appending the last subequation:\n",
    "    if val != 0:\n",
    "        intermediate_list.append(val)\n",
    "    \n",
    "    return np.prod(intermediate_list)"
   ]
  },
  {
   "cell_type": "code",
   "execution_count": 25,
   "metadata": {},
   "outputs": [
    {
     "name": "stdout",
     "output_type": "stream",
     "text": [
      "Test1 solution: 51\n"
     ]
    }
   ],
   "source": [
    "# testing:\n",
    "file = \"data/test_data_1.txt\"\n",
    "equations = create_equations(file)\n",
    "print(\"Test1 solution: {}\".format(solve_equation_2(equations[0])))"
   ]
  },
  {
   "cell_type": "code",
   "execution_count": 27,
   "metadata": {},
   "outputs": [
    {
     "name": "stdout",
     "output_type": "stream",
     "text": [
      "Test2 solution: 231\n"
     ]
    }
   ],
   "source": [
    "# testing:\n",
    "file = \"data/test_data_2.txt\"\n",
    "equations = create_equations(file)\n",
    "print(\"Test2 solution: {}\".format(solve_equation_2(equations[0])))"
   ]
  },
  {
   "cell_type": "code",
   "execution_count": 28,
   "metadata": {},
   "outputs": [
    {
     "name": "stdout",
     "output_type": "stream",
     "text": [
      "Test2 solution: 669060\n"
     ]
    }
   ],
   "source": [
    "# testing:\n",
    "file = \"data/test_data_3.txt\"\n",
    "equations = create_equations(file)\n",
    "print(\"Test2 solution: {}\".format(solve_equation_2(equations[0])))"
   ]
  },
  {
   "cell_type": "code",
   "execution_count": 32,
   "metadata": {},
   "outputs": [
    {
     "name": "stdout",
     "output_type": "stream",
     "text": [
      "The sum of the solutions is: 290726428573651\n"
     ]
    }
   ],
   "source": [
    "# real data:\n",
    "file = \"data/data.txt\"\n",
    "equations = create_equations(file)\n",
    "print(\"The sum of the solutions is: {}\".format(sum_up_solutions(equations, solve_equation_2)))"
   ]
  },
  {
   "cell_type": "code",
   "execution_count": null,
   "metadata": {},
   "outputs": [],
   "source": []
  }
 ],
 "metadata": {
  "kernelspec": {
   "display_name": "Python 3",
   "language": "python",
   "name": "python3"
  },
  "language_info": {
   "codemirror_mode": {
    "name": "ipython",
    "version": 3
   },
   "file_extension": ".py",
   "mimetype": "text/x-python",
   "name": "python",
   "nbconvert_exporter": "python",
   "pygments_lexer": "ipython3",
   "version": "3.8.6"
  }
 },
 "nbformat": 4,
 "nbformat_minor": 4
}
