{
 "cells": [
  {
   "cell_type": "markdown",
   "metadata": {},
   "source": [
    "# Part 1"
   ]
  },
  {
   "cell_type": "code",
   "execution_count": 1,
   "metadata": {},
   "outputs": [],
   "source": [
    "import numpy as np\n",
    "from numpy import genfromtxt"
   ]
  },
  {
   "cell_type": "code",
   "execution_count": 2,
   "metadata": {
    "scrolled": true
   },
   "outputs": [
    {
     "data": {
      "text/plain": [
       "array([1891., 1975., 1987., 1923., 1928., 1993., 1946., 1947., 2005.,\n",
       "       1897., 1971., 1929., 1875., 1945., 1680.,  811., 1901., 1396.,\n",
       "       1942., 1282., 1941., 1978., 1884., 1879., 1230., 2010., 1881.,\n",
       "       1979., 1996., 1904., 1934., 1865., 2003., 2006., 1966., 1860.,\n",
       "       1259., 1959., 1931., 1963., 1878., 1880.,  151., 1925., 1663.,\n",
       "       1908., 1863., 1391., 1922., 1968., 1998., 1084., 1982., 1960.,\n",
       "       1938., 1876., 1937., 1882., 1873., 1926., 1986., 1416., 1864.,\n",
       "       1862., 1969., 1913.,  532., 1866., 1242., 1933., 1903.,  965.,\n",
       "       1927., 1890., 1991., 1388., 1992., 1902., 1907., 1964., 1394.,\n",
       "       2009., 1920.,  630., 1932., 1854., 1951., 1852., 1983., 1314.,\n",
       "       1855., 1954., 1921., 1989., 1871., 1995., 1885., 1974., 1915.,\n",
       "       1872., 1251., 1899., 1985., 1889., 1935., 1912.,  946., 1965.,\n",
       "       1739., 1973., 1911., 1910., 1917., 1918., 1900., 1886., 1477.,\n",
       "       2000., 1916., 1077., 2004., 1456., 1867., 1970., 1999., 1919.,\n",
       "       1726.,  706., 1930., 1994., 1988., 1997., 1870., 1953.,  652.,\n",
       "       1893., 1898., 1883., 1957., 1972., 1874., 1977., 1955., 2001.,\n",
       "       1906., 1389., 1848., 1940., 1877., 1962., 1948., 1887., 1924.,\n",
       "       1403., 1408., 1861., 1892., 1990., 1222.,  677., 1392., 1113.,\n",
       "       1085., 1894., 1106., 1939., 1961., 1944., 1952., 1643., 1404.,\n",
       "       1895., 1958., 1976., 1206., 1905., 1076., 1888., 1896., 1943.,\n",
       "       1950., 2008., 1967.,  164., 1981., 1868., 1914., 1909., 1956.,\n",
       "        341., 1379., 2007., 1563., 1980., 1072., 1949., 1250., 1258.,\n",
       "       1092., 2002.])"
      ]
     },
     "execution_count": 2,
     "metadata": {},
     "output_type": "execute_result"
    }
   ],
   "source": [
    "# reading in the data:\n",
    "data = genfromtxt('data/data.txt', delimiter='/n')\n",
    "data"
   ]
  },
  {
   "cell_type": "code",
   "execution_count": 26,
   "metadata": {},
   "outputs": [
    {
     "data": {
      "text/plain": [
       "array([[ 89, 127],\n",
       "       [127,  89]])"
      ]
     },
     "execution_count": 26,
     "metadata": {},
     "output_type": "execute_result"
    }
   ],
   "source": [
    "# outer addition of data to itself:\n",
    "M = np.add.outer(data, data)\n",
    "\n",
    "# finding the elements which are equal to 2020:\n",
    "indices = np.argwhere(M == 2020.)\n",
    "indices"
   ]
  },
  {
   "cell_type": "code",
   "execution_count": 27,
   "metadata": {},
   "outputs": [
    {
     "data": {
      "text/plain": [
       "927684.0"
      ]
     },
     "execution_count": 27,
     "metadata": {},
     "output_type": "execute_result"
    }
   ],
   "source": [
    "# getting the solution:\n",
    "solution = data[indices[0][0]] * data[indices[0][1]]\n",
    "solution"
   ]
  },
  {
   "cell_type": "code",
   "execution_count": 28,
   "metadata": {},
   "outputs": [
    {
     "name": "stdout",
     "output_type": "stream",
     "text": [
      "1314.0\n",
      "706.0\n"
     ]
    }
   ],
   "source": [
    "print(data[indices[0][0]])\n",
    "print(data[indices[0][1]])"
   ]
  },
  {
   "cell_type": "markdown",
   "metadata": {},
   "source": [
    "# Part 2"
   ]
  },
  {
   "cell_type": "code",
   "execution_count": 30,
   "metadata": {},
   "outputs": [
    {
     "data": {
      "text/plain": [
       "array([[ 15,  66, 159],\n",
       "       [ 15, 159,  66],\n",
       "       [ 66,  15, 159],\n",
       "       [ 66, 159,  15],\n",
       "       [159,  15,  66],\n",
       "       [159,  66,  15]])"
      ]
     },
     "execution_count": 30,
     "metadata": {},
     "output_type": "execute_result"
    }
   ],
   "source": [
    "# expanding the previous matrix to a third dimension:\n",
    "MM = np.add.outer(M, data)\n",
    "\n",
    "# finding the elements which are equal to 2020:\n",
    "indices = np.argwhere(MM == 2020.)\n",
    "indices"
   ]
  },
  {
   "cell_type": "code",
   "execution_count": 32,
   "metadata": {},
   "outputs": [
    {
     "data": {
      "text/plain": [
       "292093004.0"
      ]
     },
     "execution_count": 32,
     "metadata": {},
     "output_type": "execute_result"
    }
   ],
   "source": [
    "# getting the solution:\n",
    "solution = data[indices[0][0]] * data[indices[0][1]] * data[indices[0][2]]\n",
    "solution"
   ]
  },
  {
   "cell_type": "code",
   "execution_count": 33,
   "metadata": {},
   "outputs": [
    {
     "name": "stdout",
     "output_type": "stream",
     "text": [
      "811.0\n",
      "532.0\n",
      "677.0\n"
     ]
    }
   ],
   "source": [
    "print(data[indices[0][0]])\n",
    "print(data[indices[0][1]])\n",
    "print(data[indices[0][2]])"
   ]
  },
  {
   "cell_type": "code",
   "execution_count": null,
   "metadata": {},
   "outputs": [],
   "source": []
  }
 ],
 "metadata": {
  "kernelspec": {
   "display_name": "Python 3",
   "language": "python",
   "name": "python3"
  },
  "language_info": {
   "codemirror_mode": {
    "name": "ipython",
    "version": 3
   },
   "file_extension": ".py",
   "mimetype": "text/x-python",
   "name": "python",
   "nbconvert_exporter": "python",
   "pygments_lexer": "ipython3",
   "version": "3.8.6"
  }
 },
 "nbformat": 4,
 "nbformat_minor": 4
}
