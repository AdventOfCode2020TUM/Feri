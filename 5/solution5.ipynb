{
 "cells": [
  {
   "cell_type": "markdown",
   "metadata": {},
   "source": [
    "# Task 1"
   ]
  },
  {
   "cell_type": "code",
   "execution_count": 6,
   "metadata": {},
   "outputs": [],
   "source": [
    "def get_seat_ID(line):\n",
    "    \"\"\"gets the seat id from the given line\"\"\"\n",
    "    \n",
    "    assert len(line) == 11, \"length of string is not 11\"\n",
    "    assert line[-1] == \"\\n\", \"last character is not \\n\"\n",
    "    \n",
    "    row_string = line[0: 7]\n",
    "    column_string = line[7: -1]\n",
    "    \n",
    "    # binary representation of row:\n",
    "    row_bin = \"0b\"\n",
    "    for char in row_string:\n",
    "        row_bin += str(int(char == \"B\"))\n",
    "    \n",
    "    row = int(row_bin, 2)\n",
    "    \n",
    "    # binary representation of column:\n",
    "    column_bin = \"0b\"\n",
    "    for char in column_string:\n",
    "        column_bin += str(int(char == \"R\"))\n",
    "    \n",
    "    column = int(column_bin, 2)\n",
    "    \n",
    "    return row * 8 + column"
   ]
  },
  {
   "cell_type": "code",
   "execution_count": 7,
   "metadata": {},
   "outputs": [],
   "source": [
    "def get_seat_IDs(file):\n",
    "    \"\"\"get every seat ID from a file\"\"\"\n",
    "    \n",
    "    ID_list = []\n",
    "    with open(file) as f:\n",
    "        for line in f:\n",
    "            ID_list.append(get_seat_ID(line))\n",
    "            \n",
    "    return ID_list"
   ]
  },
  {
   "cell_type": "code",
   "execution_count": 8,
   "metadata": {},
   "outputs": [
    {
     "name": "stdout",
     "output_type": "stream",
     "text": [
      "[567, 119, 820]\n"
     ]
    }
   ],
   "source": [
    "# testing on the test data:\n",
    "file = \"data/test_data.txt\"\n",
    "id_list = get_seat_IDs(file)\n",
    "print(id_list)"
   ]
  },
  {
   "cell_type": "code",
   "execution_count": 20,
   "metadata": {},
   "outputs": [
    {
     "name": "stdout",
     "output_type": "stream",
     "text": [
      "max seat ID: 994\n"
     ]
    }
   ],
   "source": [
    "# finding the highest seat ID in the real data:\n",
    "file = \"data/data.txt\"\n",
    "id_list = get_seat_IDs(file)\n",
    "print(\"max seat ID: {}\".format(max(id_list)))"
   ]
  },
  {
   "cell_type": "markdown",
   "metadata": {},
   "source": [
    "# Task 2"
   ]
  },
  {
   "cell_type": "code",
   "execution_count": 21,
   "metadata": {},
   "outputs": [],
   "source": [
    "import numpy as np"
   ]
  },
  {
   "cell_type": "code",
   "execution_count": 23,
   "metadata": {},
   "outputs": [
    {
     "name": "stdout",
     "output_type": "stream",
     "text": [
      "seat ID: [741]\n"
     ]
    }
   ],
   "source": [
    "# sorting the IDs and placing them into a np array:\n",
    "id_array = np.sort(id_list)\n",
    "# calculating the difference between the subsequent IDs:\n",
    "id_diff = id_array[1: ] - id_array[: -1]\n",
    "# finding where the difference is 2:\n",
    "index = np.where(id_diff == 2)\n",
    "# based on the index, the seat id:\n",
    "seat_id = id_array[index] + 1\n",
    "print(\"seat ID: {}\".format(seat_id))"
   ]
  }
 ],
 "metadata": {
  "kernelspec": {
   "display_name": "Python 3",
   "language": "python",
   "name": "python3"
  },
  "language_info": {
   "codemirror_mode": {
    "name": "ipython",
    "version": 3
   },
   "file_extension": ".py",
   "mimetype": "text/x-python",
   "name": "python",
   "nbconvert_exporter": "python",
   "pygments_lexer": "ipython3",
   "version": "3.8.3"
  }
 },
 "nbformat": 4,
 "nbformat_minor": 4
}
