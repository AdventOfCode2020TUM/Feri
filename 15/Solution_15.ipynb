{
 "cells": [
  {
   "cell_type": "markdown",
   "metadata": {},
   "source": [
    "# Task 1"
   ]
  },
  {
   "cell_type": "code",
   "execution_count": 26,
   "metadata": {},
   "outputs": [],
   "source": [
    "def get_2020th_number(starters):\n",
    "    \"\"\"Gets the 2020th number according to the rules.\"\"\"\n",
    "    \n",
    "    nums = starters.copy()\n",
    "    \n",
    "    for i in range(len(nums), 2020):\n",
    "        if nums[-1] not in nums[: -1]:\n",
    "            nums.append(0)\n",
    "        else:\n",
    "            last_ind = len(nums[: -1]) - 1 - nums[-2::-1].index(nums[-1])\n",
    "            nums.append(len(nums) - 1 - last_ind)\n",
    "    \n",
    "    return nums[-1]"
   ]
  },
  {
   "cell_type": "code",
   "execution_count": 29,
   "metadata": {},
   "outputs": [
    {
     "name": "stdout",
     "output_type": "stream",
     "text": [
      "test 1: 436\n",
      "test 2: 1\n",
      "test 2: 1836\n"
     ]
    }
   ],
   "source": [
    "# testing:\n",
    "print(\"test 1: {}\".format(get_2020th_number([0, 3, 6])))\n",
    "print(\"test 2: {}\".format(get_2020th_number([1, 3, 2])))\n",
    "print(\"test 2: {}\".format(get_2020th_number([3, 1, 2])))"
   ]
  },
  {
   "cell_type": "code",
   "execution_count": 30,
   "metadata": {},
   "outputs": [
    {
     "name": "stdout",
     "output_type": "stream",
     "text": [
      "real data: 289\n"
     ]
    }
   ],
   "source": [
    "# real data:\n",
    "print(\"real data: {}\".format(get_2020th_number([0, 8, 15, 2, 12, 1, 4])))"
   ]
  },
  {
   "cell_type": "markdown",
   "metadata": {},
   "source": [
    "# Task 2"
   ]
  },
  {
   "cell_type": "code",
   "execution_count": 44,
   "metadata": {},
   "outputs": [],
   "source": [
    "def get_nth_number(starters, n):\n",
    "    \"\"\"gets the n^th number according to the rules. nums contains the last occurance of each number.\"\"\"\n",
    "    \n",
    "    nums = {}\n",
    "    for i, num in enumerate(starters[: -1]):\n",
    "        nums[num] = i\n",
    "    \n",
    "    last_num = starters[-1]\n",
    "    for i in range(len(starters) - 1, n - 1):\n",
    "        if last_num not in nums.keys():\n",
    "            nums[last_num] = i\n",
    "            last_num = 0\n",
    "        else:\n",
    "            new_last_num = i - nums[last_num]\n",
    "            nums[last_num] = i\n",
    "            last_num = new_last_num\n",
    "        \n",
    "        # print(nums)\n",
    "            \n",
    "    nums = {}\n",
    "    return last_num        "
   ]
  },
  {
   "cell_type": "code",
   "execution_count": 46,
   "metadata": {},
   "outputs": [
    {
     "name": "stdout",
     "output_type": "stream",
     "text": [
      "test 1: 175594\n"
     ]
    }
   ],
   "source": [
    "# testing:\n",
    "print(\"test 1: {}\".format(get_nth_number([0, 3, 6], 30000000)))"
   ]
  },
  {
   "cell_type": "code",
   "execution_count": null,
   "metadata": {},
   "outputs": [],
   "source": [
    "# real data:\n",
    "print(\"real data: {}\".format(get_nth_number([0, 8, 15, 2, 12, 1, 4], 30000000)))"
   ]
  },
  {
   "cell_type": "code",
   "execution_count": null,
   "metadata": {},
   "outputs": [],
   "source": []
  }
 ],
 "metadata": {
  "kernelspec": {
   "display_name": "Python 3",
   "language": "python",
   "name": "python3"
  },
  "language_info": {
   "codemirror_mode": {
    "name": "ipython",
    "version": 3
   },
   "file_extension": ".py",
   "mimetype": "text/x-python",
   "name": "python",
   "nbconvert_exporter": "python",
   "pygments_lexer": "ipython3",
   "version": "3.8.6"
  }
 },
 "nbformat": 4,
 "nbformat_minor": 4
}
