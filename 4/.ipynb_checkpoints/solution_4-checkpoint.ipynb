{
 "cells": [
  {
   "cell_type": "markdown",
   "metadata": {},
   "source": [
    "# Task 1"
   ]
  },
  {
   "cell_type": "code",
   "execution_count": 40,
   "metadata": {},
   "outputs": [],
   "source": [
    "def count_correct_passports(file, must_have_fields):\n",
    "    \"\"\"Counts the correct passports in the file, that is, the ones that contain all the \n",
    "    must have fields:\n",
    "    Inputs:\n",
    "        file: string, name of the file with the data\n",
    "        must_have_fields: list of strings, the list of must have strings that each passport must contain.\n",
    "    Output:\n",
    "        num_of_correct: int, number of correct passports.\n",
    "    \"\"\"\n",
    "    \n",
    "    num_of_correct = 0\n",
    "    passport = \"\"\n",
    "\n",
    "    with open(file) as f:\n",
    "        for line in f:\n",
    "            if line != \"\\n\":\n",
    "                passport += line\n",
    "            else:\n",
    "                num_of_correct += all((field in passport) for field in must_have_fields)\n",
    "                passport = \"\"\n",
    "        \n",
    "        # checking the last passport:\n",
    "        num_of_correct += all((field in passport) for field in must_have_fields)\n",
    "        \n",
    "    return num_of_correct"
   ]
  },
  {
   "cell_type": "code",
   "execution_count": 41,
   "metadata": {},
   "outputs": [
    {
     "name": "stdout",
     "output_type": "stream",
     "text": [
      "num_of_correct: 3\n"
     ]
    }
   ],
   "source": [
    "# testing with the test data:\n",
    "file = \"data/test_data.txt\"\n",
    "\n",
    "must_have_fields = [\"byr:\", \"iyr:\", \"eyr:\", \"hgt:\",\n",
    "                    \"hcl:\", \"ecl:\", \"pid:\"]\n",
    "\n",
    "num_of_correct = count_correct_passports(file, must_have_fields)\n",
    "\n",
    "print(\"num_of_correct: {}\".format(num_of_correct))   "
   ]
  },
  {
   "cell_type": "code",
   "execution_count": 42,
   "metadata": {},
   "outputs": [
    {
     "name": "stdout",
     "output_type": "stream",
     "text": [
      "num_of_correct: 233\n"
     ]
    }
   ],
   "source": [
    "# counting the correct passports in the real data:\n",
    "file = \"data/data.txt\"\n",
    "\n",
    "must_have_fields = [\"byr:\", \"iyr:\", \"eyr:\", \"hgt:\",\n",
    "                    \"hcl:\", \"ecl:\", \"pid:\"]\n",
    "\n",
    "num_of_correct = count_correct_passports(file, must_have_fields)\n",
    "\n",
    "print(\"num_of_correct: {}\".format(num_of_correct))   "
   ]
  },
  {
   "cell_type": "markdown",
   "metadata": {},
   "source": [
    "# Task 2"
   ]
  },
  {
   "cell_type": "code",
   "execution_count": 86,
   "metadata": {},
   "outputs": [],
   "source": [
    "def get_data(passport, field):\n",
    "        substr = passport[passport.find(field) + len(field): ]\n",
    "        if (substr.find(\" \") < substr.find(\"\\n\")) & (substr.find(\" \") != -1):\n",
    "            return substr[ :substr.find(\" \")]\n",
    "        else:\n",
    "            return substr[ :substr.find(\"\\n\")]\n",
    "    \n",
    "\n",
    "def byr_check(passport):\n",
    "    if \"byr:\" in passport:\n",
    "        data = int(get_data(passport, \"byr:\"))\n",
    "        return (data >= 1920) & (data <= 2002)\n",
    "    else:\n",
    "        return False\n",
    "    \n",
    "    \n",
    "def iyr_check(passport):\n",
    "    if \"iyr:\" in passport:\n",
    "        data = int(get_data(passport, \"iyr:\"))\n",
    "        return (data >= 2010) & (data <= 2020)\n",
    "    else:\n",
    "        return False\n",
    "\n",
    "\n",
    "def eyr_check(passport):\n",
    "    if \"eyr:\" in passport:\n",
    "        data = int(get_data(passport, \"eyr:\"))\n",
    "        return (data >= 2020) & (data <= 2030)\n",
    "    else:\n",
    "        return False\n",
    "\n",
    "\n",
    "def hgt_check(passport):\n",
    "    if \"hgt:\"  in password:\n",
    "        data = get_data(passport, \"hgt:\")\n",
    "        if any((s in data) for s in [\"cm\", \"in\"]):\n",
    "            list_of_str = [s for s in data if s.isdigit()]\n",
    "            num_str = \"\"\n",
    "            num_str = num_str.join(list_of_str)\n",
    "            if num_str != \"\":\n",
    "                if \"cm\" in data:\n",
    "                    return (int(num_str) >= 150) & (int(num_str) <= 193)\n",
    "                else:\n",
    "                    return (int(num_str) >= 59) & (int(num_str) <= 76)\n",
    "            else:\n",
    "                return False\n",
    "        else:\n",
    "            return False\n",
    "    else:\n",
    "        return False\n",
    "    \n",
    "\n",
    "def hcl_check(passport):\n",
    "    if \"hcl:#\" in passport:\n",
    "        data = get_data(passport, \"hcl:#\")\n",
    "        char_list = [\"0\", \"1\", \"2\", \"3\", \"4\", \"5\", \"6\", \"7\", \"8\", \"9\",\n",
    "                    \"a\", \"b\", \"c\", \"d\", \"e\", \"f\"]\n",
    "        return all(char in char_list for char in data)\n",
    "    else:\n",
    "        return False\n",
    "    \n",
    "\n",
    "def ecl_check(passport):\n",
    "    if \"ecl:\" in passport:\n",
    "        data = get_data(passport, \"ecl:\")\n",
    "        char_list = [\"amb\", \"blu\", \"brn\", \"gry\", \"grn\", \"hzl\", \"oth\"]\n",
    "        return data in char_list\n",
    "    else:\n",
    "        return False\n",
    "    \n",
    "    \n",
    "def pid_check(passport):\n",
    "    if \"pid:\" in passport:\n",
    "        data = get_data(passport, \"pid:\")\n",
    "        return (data.isdigit()) & (len(data) == 9)\n",
    "    else:\n",
    "        return False"
   ]
  },
  {
   "cell_type": "code",
   "execution_count": 87,
   "metadata": {},
   "outputs": [],
   "source": [
    "def count_correct_passports_2(file):\n",
    "    \"\"\"Counts the correct passports in the file according to the second task.\n",
    "    Inputs:\n",
    "        file: string, name of the file with the data\n",
    "    Output:\n",
    "        num_of_correct: int, number of correct passports.\n",
    "    \"\"\"\n",
    "    \n",
    "    checks = [byr_check, iyr_check, eyr_check, hgt_check,\n",
    "              hcl_check, ecl_check, pid_check]\n",
    "    \n",
    "    num_of_correct = 0\n",
    "    passport = \"\"\n",
    "    \n",
    "    with open(file) as f:\n",
    "        for line in f:\n",
    "            if line != \"\\n\":\n",
    "                passport += line\n",
    "            else:\n",
    "                passport += line\n",
    "                num_of_correct += all(check(passport) for check in checks)\n",
    "                passport = \"\"\n",
    "            \n",
    "        # checking the last entry:\n",
    "        passport += \"\\n\"\n",
    "        num_of_correct += all(check(passport) for check in checks)\n",
    "    \n",
    "    return num_of_correct"
   ]
  },
  {
   "cell_type": "code",
   "execution_count": 88,
   "metadata": {
    "scrolled": true
   },
   "outputs": [
    {
     "name": "stdout",
     "output_type": "stream",
     "text": [
      "num_of_correct: 4\n"
     ]
    }
   ],
   "source": [
    "# testing on the valid data:\n",
    "file = \"data/test_data_valid.txt\"\n",
    "\n",
    "num_of_correct = count_correct_passports_2(file)\n",
    "\n",
    "print(\"num_of_correct: {}\".format(num_of_correct))  "
   ]
  },
  {
   "cell_type": "code",
   "execution_count": 89,
   "metadata": {},
   "outputs": [
    {
     "name": "stdout",
     "output_type": "stream",
     "text": [
      "num_of_correct: 0\n"
     ]
    }
   ],
   "source": [
    "# testing on the invalid data:\n",
    "file = \"data/test_data_invalid.txt\"\n",
    "\n",
    "num_of_correct = count_correct_passports_2(file)\n",
    "\n",
    "print(\"num_of_correct: {}\".format(num_of_correct))  "
   ]
  },
  {
   "cell_type": "code",
   "execution_count": 90,
   "metadata": {},
   "outputs": [
    {
     "name": "stdout",
     "output_type": "stream",
     "text": [
      "num_of_correct: 111\n"
     ]
    }
   ],
   "source": [
    "# counting the correct passports according to the new rule:\n",
    "file = \"data/data.txt\"\n",
    "\n",
    "num_of_correct = count_correct_passports_2(file)\n",
    "\n",
    "print(\"num_of_correct: {}\".format(num_of_correct))  "
   ]
  },
  {
   "cell_type": "code",
   "execution_count": null,
   "metadata": {},
   "outputs": [],
   "source": []
  }
 ],
 "metadata": {
  "kernelspec": {
   "display_name": "Python 3",
   "language": "python",
   "name": "python3"
  },
  "language_info": {
   "codemirror_mode": {
    "name": "ipython",
    "version": 3
   },
   "file_extension": ".py",
   "mimetype": "text/x-python",
   "name": "python",
   "nbconvert_exporter": "python",
   "pygments_lexer": "ipython3",
   "version": "3.8.3"
  }
 },
 "nbformat": 4,
 "nbformat_minor": 4
}
