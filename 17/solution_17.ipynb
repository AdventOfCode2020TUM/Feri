{
 "cells": [
  {
   "cell_type": "markdown",
   "metadata": {},
   "source": [
    "# Task 1"
   ]
  },
  {
   "cell_type": "code",
   "execution_count": 24,
   "metadata": {},
   "outputs": [],
   "source": [
    "import numpy as np\n",
    "from scipy.ndimage.filters import convolve"
   ]
  },
  {
   "cell_type": "code",
   "execution_count": 21,
   "metadata": {},
   "outputs": [],
   "source": [
    "def read_initial_state(file):\n",
    "    \"\"\"Reads the initial state from the file.\"\"\"\n",
    "    \n",
    "    with open(file) as f:\n",
    "        lines = f.readlines()\n",
    "    \n",
    "    data = []\n",
    "    for line in lines:\n",
    "        splitted = list(line[: -1])\n",
    "        data_line = []\n",
    "        for entry in splitted:\n",
    "            data_line.append(0) if entry == '.' else data_line.append(1)\n",
    "        data.append(data_line)\n",
    "\n",
    "    return np.expand_dims(np.array(data), axis=0)"
   ]
  },
  {
   "cell_type": "code",
   "execution_count": 26,
   "metadata": {},
   "outputs": [],
   "source": [
    "def update_grid(grid):\n",
    "    \"\"\"Swipes through the grid once.\"\"\"\n",
    "    dim0 = grid.shape[0] + 2\n",
    "    dim1 = grid.shape[1] + 2\n",
    "    dim2 = grid.shape[2] + 2\n",
    "    new_grid = np.zeros((dim0, dim1, dim2))\n",
    "    new_grid[1: -1, 1: -1, 1: -1] = grid.copy()\n",
    "    \n",
    "    # convolving through the array:\n",
    "    filt = np.ones((3, 3, 3))\n",
    "    filt[1, 1, 1] = 0\n",
    "    filtered_grid = convolve(new_grid, filt, mode='constant', cval=0.0)\n",
    "    \n",
    "    # flattening the tensors into a row vector:\n",
    "    new_grid = new_grid.flatten()\n",
    "    filtered_grid = filtered_grid.flatten()\n",
    "    for i, entry in enumerate(new_grid):\n",
    "        if entry == 0:\n",
    "            if filtered_grid[i] == 3:\n",
    "                new_grid[i] = 1\n",
    "        else:\n",
    "            if filtered_grid[i] not in [2, 3]:\n",
    "                new_grid[i] = 0\n",
    "                \n",
    "    return np.reshape(new_grid, (dim0, dim1, dim2))"
   ]
  },
  {
   "cell_type": "code",
   "execution_count": 27,
   "metadata": {},
   "outputs": [
    {
     "name": "stdout",
     "output_type": "stream",
     "text": [
      "[[[0 1 0]\n",
      "  [0 0 1]\n",
      "  [1 1 1]]]\n",
      "The number of active entryies is: 112.0\n"
     ]
    }
   ],
   "source": [
    "# testing:\n",
    "file = \"data/test_data.txt\"\n",
    "grid = read_initial_state(file)\n",
    "print(grid)\n",
    "for _ in range(6):\n",
    "    grid = update_grid(grid)\n",
    "\n",
    "print(\"The number of active entryies is: {}\".format(grid.sum()))"
   ]
  },
  {
   "cell_type": "code",
   "execution_count": 28,
   "metadata": {},
   "outputs": [
    {
     "name": "stdout",
     "output_type": "stream",
     "text": [
      "[[[0 1 0 1 1 0 0 1]\n",
      "  [0 0 0 0 1 0 1 1]\n",
      "  [1 1 0 1 1 1 0 0]\n",
      "  [0 1 0 1 0 1 1 1]\n",
      "  [1 0 1 0 0 0 0 0]\n",
      "  [0 1 0 0 1 1 1 0]\n",
      "  [0 1 1 1 1 1 0 1]\n",
      "  [1 0 0 1 1 1 1 0]]]\n",
      "The number of active entryies is: 338.0\n"
     ]
    }
   ],
   "source": [
    "# real data:\n",
    "file = \"data/data.txt\"\n",
    "grid = read_initial_state(file)\n",
    "print(grid)\n",
    "for _ in range(6):\n",
    "    grid = update_grid(grid)\n",
    "\n",
    "print(\"The number of active entryies is: {}\".format(grid.sum()))"
   ]
  },
  {
   "cell_type": "markdown",
   "metadata": {},
   "source": [
    "# Task 2"
   ]
  },
  {
   "cell_type": "code",
   "execution_count": 31,
   "metadata": {},
   "outputs": [],
   "source": [
    "def read_initial_state_2(file):\n",
    "    \"\"\"Reads the initial state from the file.\"\"\"\n",
    "    \n",
    "    with open(file) as f:\n",
    "        lines = f.readlines()\n",
    "    \n",
    "    data = []\n",
    "    for line in lines:\n",
    "        splitted = list(line[: -1])\n",
    "        data_line = []\n",
    "        for entry in splitted:\n",
    "            data_line.append(0) if entry == '.' else data_line.append(1)\n",
    "        data.append(data_line)\n",
    "\n",
    "    return np.array(data, ndmin=4)"
   ]
  },
  {
   "cell_type": "code",
   "execution_count": 33,
   "metadata": {},
   "outputs": [],
   "source": [
    "def update_grid_2(grid):\n",
    "    \"\"\"Swipes through the grid once.\"\"\"\n",
    "    dim0 = grid.shape[0] + 2\n",
    "    dim1 = grid.shape[1] + 2\n",
    "    dim2 = grid.shape[2] + 2\n",
    "    dim3 = grid.shape[3] + 2\n",
    "    new_grid = np.zeros((dim0, dim1, dim2, dim3))\n",
    "    new_grid[1: -1, 1: -1, 1: -1, 1: -1] = grid.copy()\n",
    "    \n",
    "    # convolving through the array:\n",
    "    filt = np.ones((3, 3, 3, 3))\n",
    "    filt[1, 1, 1, 1] = 0\n",
    "    filtered_grid = convolve(new_grid, filt, mode='constant', cval=0.0)\n",
    "    \n",
    "    # flattening the tensors into a row vector:\n",
    "    new_grid = new_grid.flatten()\n",
    "    filtered_grid = filtered_grid.flatten()\n",
    "    for i, entry in enumerate(new_grid):\n",
    "        if entry == 0:\n",
    "            if filtered_grid[i] == 3:\n",
    "                new_grid[i] = 1\n",
    "        else:\n",
    "            if filtered_grid[i] not in [2, 3]:\n",
    "                new_grid[i] = 0\n",
    "                \n",
    "    return np.reshape(new_grid, (dim0, dim1, dim2, dim3))"
   ]
  },
  {
   "cell_type": "code",
   "execution_count": 34,
   "metadata": {},
   "outputs": [
    {
     "name": "stdout",
     "output_type": "stream",
     "text": [
      "[[[[0 1 0]\n",
      "   [0 0 1]\n",
      "   [1 1 1]]]]\n",
      "The number of active entryies is: 848.0\n"
     ]
    }
   ],
   "source": [
    "# testing:\n",
    "file = \"data/test_data.txt\"\n",
    "grid = read_initial_state_2(file)\n",
    "print(grid)\n",
    "for _ in range(6):\n",
    "    grid = update_grid_2(grid)\n",
    "\n",
    "print(\"The number of active entryies is: {}\".format(grid.sum()))"
   ]
  },
  {
   "cell_type": "code",
   "execution_count": 35,
   "metadata": {},
   "outputs": [
    {
     "name": "stdout",
     "output_type": "stream",
     "text": [
      "[[[[0 1 0 1 1 0 0 1]\n",
      "   [0 0 0 0 1 0 1 1]\n",
      "   [1 1 0 1 1 1 0 0]\n",
      "   [0 1 0 1 0 1 1 1]\n",
      "   [1 0 1 0 0 0 0 0]\n",
      "   [0 1 0 0 1 1 1 0]\n",
      "   [0 1 1 1 1 1 0 1]\n",
      "   [1 0 0 1 1 1 1 0]]]]\n",
      "The number of active entryies is: 2440.0\n"
     ]
    }
   ],
   "source": [
    "# real data:\n",
    "file = \"data/data.txt\"\n",
    "grid = read_initial_state_2(file)\n",
    "print(grid)\n",
    "for _ in range(6):\n",
    "    grid = update_grid_2(grid)\n",
    "\n",
    "print(\"The number of active entryies is: {}\".format(grid.sum()))"
   ]
  },
  {
   "cell_type": "code",
   "execution_count": null,
   "metadata": {},
   "outputs": [],
   "source": []
  }
 ],
 "metadata": {
  "kernelspec": {
   "display_name": "Python 3",
   "language": "python",
   "name": "python3"
  },
  "language_info": {
   "codemirror_mode": {
    "name": "ipython",
    "version": 3
   },
   "file_extension": ".py",
   "mimetype": "text/x-python",
   "name": "python",
   "nbconvert_exporter": "python",
   "pygments_lexer": "ipython3",
   "version": "3.8.6"
  }
 },
 "nbformat": 4,
 "nbformat_minor": 4
}
