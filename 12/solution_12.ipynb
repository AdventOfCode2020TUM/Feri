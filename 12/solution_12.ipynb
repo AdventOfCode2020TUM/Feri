{
 "cells": [
  {
   "cell_type": "markdown",
   "metadata": {},
   "source": [
    "# Task 1"
   ]
  },
  {
   "cell_type": "code",
   "execution_count": 3,
   "metadata": {},
   "outputs": [],
   "source": [
    "import math"
   ]
  },
  {
   "cell_type": "code",
   "execution_count": 1,
   "metadata": {},
   "outputs": [],
   "source": [
    "def read_instructions(file):\n",
    "    \"\"\"Reads the instructions from the file.\"\"\"\n",
    "    with open(file) as f:\n",
    "        return [[line[0], int(line[1: -1])] for line in f]"
   ]
  },
  {
   "cell_type": "code",
   "execution_count": 7,
   "metadata": {},
   "outputs": [],
   "source": [
    "def navigate(data, init_pose):\n",
    "    \"\"\"Navigates the ship from init_pose according to instructions.\n",
    "    init_pose has the form: [x, y, orientation]\n",
    "    where x points east and y points north.\n",
    "    \"\"\"\n",
    "    pose = init_pose.copy()\n",
    "    for instruction in data:\n",
    "        pose = step(pose, instruction)\n",
    "    \n",
    "    return pose\n",
    "\n",
    "\n",
    "def step(pose, instruction):\n",
    "    \"\"\"steps one according to the instruction.\"\"\"\n",
    "    if instruction[0] == 'N':\n",
    "        return [pose[0], pose[1] + instruction[1], pose[2]]\n",
    "    elif instruction[0] == 'S':\n",
    "        return [pose[0], pose[1] - instruction[1], pose[2]]\n",
    "    elif instruction[0] == 'E':\n",
    "        return [pose[0] + instruction[1], pose[1], pose[2]]\n",
    "    elif instruction[0] == 'W':\n",
    "        return [pose[0] - instruction[1], pose[1], pose[2]]\n",
    "    elif instruction[0] == 'L':\n",
    "        return [pose[0], pose[1], pose[2] + math.radians(instruction[1])]\n",
    "    elif instruction[0] == 'R':\n",
    "        return [pose[0], pose[1], pose[2] - math.radians(instruction[1])]\n",
    "    elif instruction[0] == 'F':\n",
    "        return [pose[0] + instruction[1] * math.cos(pose[2]),\n",
    "                pose[1] + instruction[1] * math.sin(pose[2]),\n",
    "                pose[2]]"
   ]
  },
  {
   "cell_type": "code",
   "execution_count": 9,
   "metadata": {},
   "outputs": [
    {
     "name": "stdout",
     "output_type": "stream",
     "text": [
      "last pose: [17.0, -8.0, -1.5707963267948966]\n",
      "Manhattan distance: 25.0\n"
     ]
    }
   ],
   "source": [
    "# testing:\n",
    "file = \"data/test_data.txt\"\n",
    "data = read_instructions(file)\n",
    "init_pose = [0, 0, 0]\n",
    "last_pose = navigate(data, init_pose)\n",
    "print(\"last pose: {}\".format(last_pose))\n",
    "print(\"Manhattan distance: {}\".format(abs(last_pose[0]) + abs(last_pose[1])))"
   ]
  },
  {
   "cell_type": "code",
   "execution_count": 10,
   "metadata": {},
   "outputs": [
    {
     "name": "stdout",
     "output_type": "stream",
     "text": [
      "last pose: [-566.9999999999999, -189.99999999999977, 7.853981633974481]\n",
      "Manhattan distance: 756.9999999999997\n"
     ]
    }
   ],
   "source": [
    "# real data:\n",
    "file = \"data/data.txt\"\n",
    "data = read_instructions(file)\n",
    "init_pose = [0, 0, 0]\n",
    "last_pose = navigate(data, init_pose)\n",
    "print(\"last pose: {}\".format(last_pose))\n",
    "print(\"Manhattan distance: {}\".format(abs(last_pose[0]) + abs(last_pose[1])))"
   ]
  },
  {
   "cell_type": "markdown",
   "metadata": {},
   "source": [
    "# Task 2"
   ]
  },
  {
   "cell_type": "code",
   "execution_count": 11,
   "metadata": {},
   "outputs": [],
   "source": [
    "import numpy as np"
   ]
  },
  {
   "cell_type": "code",
   "execution_count": 18,
   "metadata": {},
   "outputs": [],
   "source": [
    "def navigate_2(data, initial_pos, initial_waypoint):\n",
    "    \"\"\"Carries out the navigation according to the second rules.\"\"\"\n",
    "    pos = np.array(initial_pos.copy())\n",
    "    waypoint = np.array(initial_waypoint.copy())\n",
    "    \n",
    "    for instruction in data:\n",
    "        pos, waypoint = step_2(pos, waypoint, instruction)\n",
    "        \n",
    "    return pos\n",
    "\n",
    "\n",
    "def step_2(pos, waypoint, instruction):\n",
    "    \"\"\"carraies out a step according to the instruction.\"\"\"\n",
    "    if instruction[0] == 'N':\n",
    "        return pos, waypoint + np.array([0, instruction[1]])\n",
    "    elif instruction[0] == 'S':\n",
    "        return pos, waypoint - np.array([0, instruction[1]])\n",
    "    elif instruction[0] == 'E':\n",
    "        return pos, waypoint + np.array([instruction[1], 0])\n",
    "    elif instruction[0] == 'W':\n",
    "        return pos, waypoint - np.array([instruction[1], 0])\n",
    "    elif instruction[0] == 'L':\n",
    "        phi = math.radians(instruction[1])\n",
    "        R = np.array([[np.cos(phi), -np.sin(phi)], [np.sin(phi), np.cos(phi)]])\n",
    "        return pos, (R @ waypoint.T).T\n",
    "    elif instruction[0] == 'R':\n",
    "        phi = math.radians(-instruction[1])\n",
    "        R = np.array([[np.cos(phi), -np.sin(phi)], [np.sin(phi), np.cos(phi)]])\n",
    "        return pos, (R @ waypoint.T).T\n",
    "    elif instruction[0] == 'F':\n",
    "        return pos + waypoint * instruction[1], waypoint"
   ]
  },
  {
   "cell_type": "code",
   "execution_count": 19,
   "metadata": {},
   "outputs": [
    {
     "name": "stdout",
     "output_type": "stream",
     "text": [
      "last pose: [214. -72.]\n",
      "Manhattan distance: 286.0\n"
     ]
    }
   ],
   "source": [
    "# testing:\n",
    "file = \"data/test_data.txt\"\n",
    "data = read_instructions(file)\n",
    "init_pose = [0, 0]\n",
    "init_waypoint = [10, 1]\n",
    "last_pose = navigate_2(data, init_pose, init_waypoint)\n",
    "print(\"last pose: {}\".format(last_pose))\n",
    "print(\"Manhattan distance: {}\".format(abs(last_pose[0]) + abs(last_pose[1])))"
   ]
  },
  {
   "cell_type": "code",
   "execution_count": 20,
   "metadata": {},
   "outputs": [
    {
     "name": "stdout",
     "output_type": "stream",
     "text": [
      "last pose: [  5347. -45902.]\n",
      "Manhattan distance: 51248.999999999985\n"
     ]
    }
   ],
   "source": [
    "# real data:\n",
    "file = \"data/data.txt\"\n",
    "data = read_instructions(file)\n",
    "init_pose = [0, 0]\n",
    "init_waypoint = [10, 1]\n",
    "last_pose = navigate_2(data, init_pose, init_waypoint)\n",
    "print(\"last pose: {}\".format(last_pose))\n",
    "print(\"Manhattan distance: {}\".format(abs(last_pose[0]) + abs(last_pose[1])))"
   ]
  },
  {
   "cell_type": "code",
   "execution_count": null,
   "metadata": {},
   "outputs": [],
   "source": []
  }
 ],
 "metadata": {
  "kernelspec": {
   "display_name": "Python 3",
   "language": "python",
   "name": "python3"
  },
  "language_info": {
   "codemirror_mode": {
    "name": "ipython",
    "version": 3
   },
   "file_extension": ".py",
   "mimetype": "text/x-python",
   "name": "python",
   "nbconvert_exporter": "python",
   "pygments_lexer": "ipython3",
   "version": "3.8.6"
  }
 },
 "nbformat": 4,
 "nbformat_minor": 4
}
